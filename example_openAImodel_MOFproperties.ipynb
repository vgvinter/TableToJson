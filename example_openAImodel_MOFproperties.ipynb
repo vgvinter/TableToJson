{
 "cells": [
  {
   "cell_type": "markdown",
   "id": "1028f7c5",
   "metadata": {},
   "source": [
    "# \n",
    "# JSON structured data from tables in scientific papers"
   ]
  },
  {
   "cell_type": "markdown",
   "id": "1975cd32",
   "metadata": {},
   "source": [
    "## OpenAI model"
   ]
  },
  {
   "cell_type": "code",
   "execution_count": 1,
   "id": "6d0ceb35",
   "metadata": {},
   "outputs": [],
   "source": [
    "import os\n",
    "import json\n",
    "from typing import List\n",
    "\n",
    "from IPython.display import HTML\n",
    "from langchain.llms import OpenAI\n",
    "from pydantic import BaseModel, Field\n",
    "from pydantic.schema import schema\n",
    "\n",
    "os.environ[\"OPENAI_API_KEY\"] = \"your_openai_api_key\""
   ]
  },
  {
   "cell_type": "code",
   "execution_count": 4,
   "id": "3ae319ee",
   "metadata": {
    "scrolled": true
   },
   "outputs": [],
   "source": [
    "model_davinci = OpenAI(\n",
    "    model_name=\"text-davinci-003\",\n",
    "    temperature=0.9,\n",
    "    max_tokens=1200\n",
    "    )"
   ]
  },
  {
   "cell_type": "code",
   "execution_count": 5,
   "id": "854541c9",
   "metadata": {},
   "outputs": [],
   "source": [
    "prompt_template = \"\"\"\n",
    "Generate a JSON object extracting the information from this table in html code:\n",
    "\"\"\""
   ]
  },
  {
   "cell_type": "code",
   "execution_count": 6,
   "id": "ff54516a",
   "metadata": {},
   "outputs": [],
   "source": [
    "def prompt(prompt_template, html_table, json_schema):\n",
    "    prompt_output = \"Generate the JSON result with the following JSON schema and give only the JSON as output: \"\n",
    "    prompt = prompt_template + html_table + prompt_output + str(json_schema)\n",
    "    return prompt"
   ]
  },
  {
   "cell_type": "markdown",
   "id": "083032ec",
   "metadata": {},
   "source": [
    "### Example: MOFs properties"
   ]
  },
  {
   "cell_type": "code",
   "execution_count": 7,
   "id": "de88071e",
   "metadata": {},
   "outputs": [],
   "source": [
    "with open(\"html_tables/html_table_MOFproperties.txt\", 'r') as file:\n",
    "    html_table_MOFproperties = file.read()\n",
    "    file.close()"
   ]
  },
  {
   "cell_type": "code",
   "execution_count": 8,
   "id": "f4cd2e27",
   "metadata": {
    "scrolled": true
   },
   "outputs": [
    {
     "data": {
      "text/plain": [
       "'<table class=\"table\" border=\"0\"><colgroup><col align=\"left\"><col align=\"char\" char=\".\"><col align=\"char\" char=\".\"><col align=\"char\" char=\".\"><col align=\"char\" char=\".\"><col align=\"char\" char=\".\"><col align=\"char\" char=\".\"><col align=\"char\" char=\".\"></colgroup><thead><tr valign=\"top\" class=\"colsep0\"><th class=\"colsep0 rowsep0\" scope=\"col\" align=\"center\">&nbsp;</th><th class=\"rowsep1 colsep0\" colspan=\"2\" scope=\"col\" align=\"center\" char=\".\">BET (m<sup>2</sup>/g)</th><th class=\"rowsep1 colsep0\" colspan=\"3\" scope=\"col\" align=\"center\" char=\".\"><i>V</i><sub>pore</sub> (cc/g)</th><th class=\"colsep0 rowsep0\" scope=\"col\" align=\"center\" char=\".\">&nbsp;</th><th class=\"colsep0 rowsep0\" scope=\"col\" align=\"center\" char=\".\">&nbsp;</th></tr><tr valign=\"top\" class=\"colsep0\"><th class=\"colsep0 rowsep0\" scope=\"col\" align=\"center\">MOFs</th><th class=\"colsep0 rowsep0\" scope=\"col\" align=\"center\" char=\".\">N<sub>2</sub></th><th class=\"colsep0 rowsep0\" scope=\"col\" align=\"center\" char=\".\">calcd</th><th class=\"colsep0 rowsep0\" scope=\"col\" align=\"center\" char=\".\">N<sub>2</sub></th><th class=\"colsep0 rowsep0\" scope=\"col\" align=\"center\" char=\".\">CH<sub>4</sub></th><th class=\"colsep0 rowsep0\" scope=\"col\" align=\"center\" char=\".\">calcd</th><th class=\"colsep0 rowsep0\" scope=\"col\" align=\"center\" char=\".\">ρ&nbsp;(g/cm<sup>3</sup>)</th><th class=\"colsep0 rowsep0\" scope=\"col\" align=\"center\" char=\".\">metal (mmol/cc)</th></tr></thead><tbody><tr valign=\"top\" class=\"colsep0\"><td class=\"colsep0 rowsep0\" scope=\"row\" align=\"left\">HKUST-1</td><td class=\"colsep0 rowsep0\" align=\"char\" char=\".\">1850</td><td class=\"colsep0 rowsep0\" align=\"char\" char=\".\">2064</td><td class=\"colsep0 rowsep0\" align=\"char\" char=\".\">0.78</td><td class=\"colsep0 rowsep0\" align=\"char\" char=\".\">0.78</td><td class=\"colsep0 rowsep0\" align=\"char\" char=\".\">0.78</td><td class=\"colsep0 rowsep0\" align=\"char\" char=\".\">0.883</td><td class=\"colsep0 rowsep0\" align=\"char\" char=\".\">4.38</td></tr><tr valign=\"top\" class=\"colsep0\"><td class=\"colsep0 rowsep0\" scope=\"row\" align=\"left\">Ni-MOF-74</td><td class=\"colsep0 rowsep0\" align=\"char\" char=\".\">1350</td><td class=\"colsep0 rowsep0\" align=\"char\" char=\".\">1240</td><td class=\"colsep0 rowsep0\" align=\"char\" char=\".\">0.51</td><td class=\"colsep0 rowsep0\" align=\"char\" char=\".\">0.52</td><td class=\"colsep0 rowsep0\" align=\"char\" char=\".\">0.49</td><td class=\"colsep0 rowsep0\" align=\"char\" char=\".\">1.206</td><td class=\"colsep0 rowsep0\" align=\"char\" char=\".\">7.74</td></tr><tr valign=\"top\" class=\"colsep0\"><td class=\"colsep0 rowsep0\" scope=\"row\" align=\"left\">PCN-14</td><td class=\"colsep0 rowsep0\" align=\"char\" char=\".\">2000</td><td class=\"colsep0 rowsep0\" align=\"char\" char=\".\">2170</td><td class=\"colsep0 rowsep0\" align=\"char\" char=\".\">0.85</td><td class=\"colsep0 rowsep0\" align=\"char\" char=\".\">0.78</td><td class=\"colsep0 rowsep0\" align=\"char\" char=\".\">0.76</td><td class=\"colsep0 rowsep0\" align=\"char\" char=\".\">0.829</td><td class=\"colsep0 rowsep0\" align=\"char\" char=\".\">2.59</td></tr><tr valign=\"top\" class=\"colsep0\"><td class=\"colsep0 rowsep0\" scope=\"row\" align=\"left\">UTSA-20</td><td class=\"colsep0 rowsep0\" align=\"char\" char=\".\">1620</td><td class=\"colsep0 rowsep0\" align=\"char\" char=\".\">1960</td><td class=\"colsep0 rowsep0\" align=\"char\" char=\".\">0.66</td><td class=\"colsep0 rowsep0\" align=\"char\" char=\".\">0.66</td><td class=\"colsep0 rowsep0\" align=\"char\" char=\".\">0.69</td><td class=\"colsep0 rowsep0\" align=\"char\" char=\".\">0.909</td><td class=\"colsep0 rowsep0\" align=\"char\" char=\".\">3.61</td></tr><tr valign=\"top\" class=\"colsep0\"><td class=\"colsep0 rowsep0\" scope=\"row\" align=\"left\">NU-125</td><td class=\"colsep0 rowsep0\" align=\"char\" char=\".\">3120</td><td class=\"colsep0 rowsep0\" align=\"char\" char=\".\">3680</td><td class=\"colsep0 rowsep0\" align=\"char\" char=\".\">1.29</td><td class=\"colsep0 rowsep0\" align=\"char\" char=\".\">1.23</td><td class=\"colsep0 rowsep0\" align=\"char\" char=\".\">1.32</td><td class=\"colsep0 rowsep0\" align=\"char\" char=\".\">0.578</td><td class=\"colsep0 rowsep0\" align=\"char\" char=\".\">1.82</td></tr><tr valign=\"top\" class=\"colsep0\"><td class=\"colsep0 rowsep0\" scope=\"row\" align=\"left\">NU-111</td><td class=\"colsep0 rowsep0\" align=\"char\" char=\".\">4930</td><td class=\"colsep0 rowsep0\" align=\"char\" char=\".\">4650</td><td class=\"colsep0 rowsep0\" align=\"char\" char=\".\">2.09</td><td class=\"colsep0 rowsep0\" align=\"char\" char=\".\">2.12</td><td class=\"colsep0 rowsep0\" align=\"char\" char=\".\">2.03</td><td class=\"colsep0 rowsep0\" align=\"char\" char=\".\">0.409</td><td class=\"colsep0 rowsep0\" align=\"char\" char=\".\">1.36</td></tr></tbody></table>'"
      ]
     },
     "execution_count": 8,
     "metadata": {},
     "output_type": "execute_result"
    }
   ],
   "source": [
    "html_table_MOFproperties"
   ]
  },
  {
   "cell_type": "code",
   "execution_count": 11,
   "id": "25d52ddd",
   "metadata": {},
   "outputs": [],
   "source": [
    "with open(\"json_schemas/json_schema_MOFproperties.json\") as file:\n",
    "    json_schema_MOFproperties = json.load(file)\n",
    "    file.close()"
   ]
  },
  {
   "cell_type": "code",
   "execution_count": 12,
   "id": "b060aa8b",
   "metadata": {},
   "outputs": [
    {
     "data": {
      "text/plain": [
       "{'type': 'object',\n",
       " 'properties': {'MOFs': {'type': 'array',\n",
       "   'items': {'type': 'object',\n",
       "    'properties': {'MOF': {'type': 'string'},\n",
       "     'N2_BET': {'type': 'number'},\n",
       "     'calcd_BET': {'type': 'number'},\n",
       "     'N2_Vpore': {'type': 'number'},\n",
       "     'CH4_Vpore': {'type': 'number'},\n",
       "     'calcd_Vpore': {'type': 'number'},\n",
       "     'ρ': {'type': 'number'},\n",
       "     'metal': {'type': 'number'}}}}}}"
      ]
     },
     "execution_count": 12,
     "metadata": {},
     "output_type": "execute_result"
    }
   ],
   "source": [
    "json_schema_MOFproperties"
   ]
  },
  {
   "cell_type": "code",
   "execution_count": 20,
   "id": "99031708",
   "metadata": {},
   "outputs": [],
   "source": [
    "prompt_MOFproperties = prompt(prompt_template, html_table_MOFproperties, json_schema_MOFproperties)"
   ]
  },
  {
   "cell_type": "code",
   "execution_count": 21,
   "id": "5e2909f7",
   "metadata": {},
   "outputs": [],
   "source": [
    "davinci_MOFproperties = model_davinci(prompt_MOFproperties)"
   ]
  },
  {
   "cell_type": "markdown",
   "id": "88cc6e12",
   "metadata": {},
   "source": [
    "#### pydantic json validation"
   ]
  },
  {
   "cell_type": "code",
   "execution_count": 31,
   "id": "821c1d0c",
   "metadata": {},
   "outputs": [],
   "source": [
    "class MOFs(BaseModel):\n",
    "    MOF: str\n",
    "    N2_BET: float\n",
    "    calcd_BET: float\n",
    "    N2_Vpore: float\n",
    "    CH4_Vpore: float\n",
    "    calcd_Vpore: float\n",
    "    ρ: float\n",
    "    metal: float\n",
    "        \n",
    "class MOFsList(BaseModel):\n",
    "    mofs: List[MOFs] = Field(alias = \"MOFs\")"
   ]
  },
  {
   "cell_type": "code",
   "execution_count": 32,
   "id": "262d3736",
   "metadata": {
    "scrolled": true
   },
   "outputs": [
    {
     "data": {
      "text/plain": [
       "MOFsList(mofs=[MOFs(MOF='HKUST-1', N2_BET=1850.0, calcd_BET=2064.0, N2_Vpore=0.78, CH4_Vpore=0.78, calcd_Vpore=0.78, ρ=0.883, metal=4.38), MOFs(MOF='Ni-MOF-74', N2_BET=1350.0, calcd_BET=1240.0, N2_Vpore=0.51, CH4_Vpore=0.52, calcd_Vpore=0.49, ρ=1.206, metal=7.74), MOFs(MOF='PCN-14', N2_BET=2000.0, calcd_BET=2170.0, N2_Vpore=0.85, CH4_Vpore=0.78, calcd_Vpore=0.76, ρ=0.829, metal=2.59), MOFs(MOF='UTSA-20', N2_BET=1620.0, calcd_BET=1960.0, N2_Vpore=0.66, CH4_Vpore=0.66, calcd_Vpore=0.69, ρ=0.909, metal=3.61), MOFs(MOF='NU-125', N2_BET=3120.0, calcd_BET=3680.0, N2_Vpore=1.29, CH4_Vpore=1.23, calcd_Vpore=1.32, ρ=0.578, metal=1.82), MOFs(MOF='NU-111', N2_BET=4930.0, calcd_BET=4650.0, N2_Vpore=2.09, CH4_Vpore=2.12, calcd_Vpore=2.03, ρ=0.409, metal=1.36)])"
      ]
     },
     "execution_count": 32,
     "metadata": {},
     "output_type": "execute_result"
    }
   ],
   "source": [
    "MOFsList.parse_raw(davinci_MOFproperties)"
   ]
  },
  {
   "cell_type": "code",
   "execution_count": 34,
   "id": "0fd5b2d1",
   "metadata": {},
   "outputs": [],
   "source": [
    "with open(\"structured_openai_results/davinci_MOFproperties.json\", 'w') as file:\n",
    "    json.dump(json.loads(davinci_MOFproperties), file)"
   ]
  },
  {
   "cell_type": "code",
   "execution_count": 35,
   "id": "23f15b63",
   "metadata": {},
   "outputs": [],
   "source": [
    "with open(\"structured_openai_results/davinci_MOFproperties.json\") as file:\n",
    "    davinci_MOFproperties_json = json.load(file)\n",
    "    file.close()"
   ]
  },
  {
   "cell_type": "code",
   "execution_count": 36,
   "id": "923604ed",
   "metadata": {},
   "outputs": [
    {
     "name": "stdout",
     "output_type": "stream",
     "text": [
      "{\n",
      "    \"MOFs\": [\n",
      "        {\n",
      "            \"MOF\": \"HKUST-1\",\n",
      "            \"N2_BET\": 1850,\n",
      "            \"calcd_BET\": 2064,\n",
      "            \"N2_Vpore\": 0.78,\n",
      "            \"CH4_Vpore\": 0.78,\n",
      "            \"calcd_Vpore\": 0.78,\n",
      "            \"ρ\": 0.883,\n",
      "            \"metal\": 4.38\n",
      "        },\n",
      "        {\n",
      "            \"MOF\": \"Ni-MOF-74\",\n",
      "            \"N2_BET\": 1350,\n",
      "            \"calcd_BET\": 1240,\n",
      "            \"N2_Vpore\": 0.51,\n",
      "            \"CH4_Vpore\": 0.52,\n",
      "            \"calcd_Vpore\": 0.49,\n",
      "            \"ρ\": 1.206,\n",
      "            \"metal\": 7.74\n",
      "        },\n",
      "        {\n",
      "            \"MOF\": \"PCN-14\",\n",
      "            \"N2_BET\": 2000,\n",
      "            \"calcd_BET\": 2170,\n",
      "            \"N2_Vpore\": 0.85,\n",
      "            \"CH4_Vpore\": 0.78,\n",
      "            \"calcd_Vpore\": 0.76,\n",
      "            \"ρ\": 0.829,\n",
      "            \"metal\": 2.59\n",
      "        },\n",
      "        {\n",
      "            \"MOF\": \"UTSA-20\",\n",
      "            \"N2_BET\": 1620,\n",
      "            \"calcd_BET\": 1960,\n",
      "            \"N2_Vpore\": 0.66,\n",
      "            \"CH4_Vpore\": 0.66,\n",
      "            \"calcd_Vpore\": 0.69,\n",
      "            \"ρ\": 0.909,\n",
      "            \"metal\": 3.61\n",
      "        },\n",
      "        {\n",
      "            \"MOF\": \"NU-125\",\n",
      "            \"N2_BET\": 3120,\n",
      "            \"calcd_BET\": 3680,\n",
      "            \"N2_Vpore\": 1.29,\n",
      "            \"CH4_Vpore\": 1.23,\n",
      "            \"calcd_Vpore\": 1.32,\n",
      "            \"ρ\": 0.578,\n",
      "            \"metal\": 1.82\n",
      "        },\n",
      "        {\n",
      "            \"MOF\": \"NU-111\",\n",
      "            \"N2_BET\": 4930,\n",
      "            \"calcd_BET\": 4650,\n",
      "            \"N2_Vpore\": 2.09,\n",
      "            \"CH4_Vpore\": 2.12,\n",
      "            \"calcd_Vpore\": 2.03,\n",
      "            \"ρ\": 0.409,\n",
      "            \"metal\": 1.36\n",
      "        }\n",
      "    ]\n",
      "}\n"
     ]
    }
   ],
   "source": [
    "print(json.dumps(davinci_MOFproperties_json, indent=4, ensure_ascii=False))"
   ]
  }
 ],
 "metadata": {
  "kernelspec": {
   "display_name": "Python [conda env:llms]",
   "language": "python",
   "name": "conda-env-llms-py"
  },
  "language_info": {
   "codemirror_mode": {
    "name": "ipython",
    "version": 3
   },
   "file_extension": ".py",
   "mimetype": "text/x-python",
   "name": "python",
   "nbconvert_exporter": "python",
   "pygments_lexer": "ipython3",
   "version": "3.10.11"
  }
 },
 "nbformat": 4,
 "nbformat_minor": 5
}
