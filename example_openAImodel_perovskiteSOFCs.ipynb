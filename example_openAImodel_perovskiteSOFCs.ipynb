{
 "cells": [
  {
   "cell_type": "markdown",
   "id": "1028f7c5",
   "metadata": {},
   "source": [
    "# \n",
    "# JSON structured data from tables in scientific papers"
   ]
  },
  {
   "cell_type": "markdown",
   "id": "d7a2b552",
   "metadata": {},
   "source": [
    "## OpenAI model"
   ]
  },
  {
   "cell_type": "code",
   "execution_count": 1,
   "id": "6d0ceb35",
   "metadata": {},
   "outputs": [],
   "source": [
    "import os\n",
    "import json\n",
    "from typing import List\n",
    "\n",
    "from IPython.display import HTML\n",
    "from langchain.llms import OpenAI\n",
    "from pydantic import BaseModel, Field\n",
    "from pydantic.schema import schema\n",
    "\n",
    "os.environ[\"OPENAI_API_KEY\"] = \"your_openai_api_key\""
   ]
  },
  {
   "cell_type": "code",
   "execution_count": 4,
   "id": "3ae319ee",
   "metadata": {
    "scrolled": true
   },
   "outputs": [],
   "source": [
    "model_davinci = OpenAI(\n",
    "    model_name=\"text-davinci-003\",\n",
    "    temperature=0.9,\n",
    "    max_tokens=1200\n",
    "    )"
   ]
  },
  {
   "cell_type": "code",
   "execution_count": 5,
   "id": "854541c9",
   "metadata": {},
   "outputs": [],
   "source": [
    "prompt_template = \"\"\"\n",
    "Generate a JSON object extracting the information from this table in html code:\n",
    "\"\"\""
   ]
  },
  {
   "cell_type": "code",
   "execution_count": 6,
   "id": "ff54516a",
   "metadata": {},
   "outputs": [],
   "source": [
    "def prompt(prompt_template, html_table, json_schema):\n",
    "    prompt_output = \"Generate the JSON result with the following JSON schema and give only the JSON as output: \"\n",
    "    prompt = prompt_template + html_table + prompt_output + str(json_schema)\n",
    "    return prompt"
   ]
  },
  {
   "cell_type": "markdown",
   "id": "0c5f5c26",
   "metadata": {},
   "source": [
    "### Example: Perovskite-structured cathode materials for SOFCs "
   ]
  },
  {
   "cell_type": "code",
   "execution_count": 15,
   "id": "aac69de8",
   "metadata": {},
   "outputs": [],
   "source": [
    "with open(\"html_table_perovskiteSOFCs.txt\", 'r') as file:\n",
    "    html_table_perovskiteSOFCs = file.read()\n",
    "    file.close()"
   ]
  },
  {
   "cell_type": "code",
   "execution_count": 16,
   "id": "1fdba307",
   "metadata": {
    "scrolled": true
   },
   "outputs": [
    {
     "data": {
      "text/plain": [
       "'<table><thead><tr class=\"rowsep-1 valign-top\"><th scope=\"col\">Composition</th><th scope=\"col\"><span class=\"math\"><span class=\"MathJax_Preview\" style=\"\"></span><span class=\"MathJax_SVG\" id=\"MathJax-Element-17-Frame\" tabindex=\"0\" data-mathml=\"<math xmlns=&quot;http://www.w3.org/1998/Math/MathML&quot;><mrow is=&quot;true&quot;><msub is=&quot;true&quot;><mrow is=&quot;true&quot;><mi mathvariant=&quot;bold-italic&quot; is=&quot;true&quot;>&amp;#x3C3;</mi></mrow><mrow is=&quot;true&quot;><mi mathvariant=&quot;bold-italic&quot; is=&quot;true&quot;>e</mi></mrow></msub></mrow></math>\" role=\"presentation\" style=\"font-size: 90%; display: inline-block; position: relative;\"><svg xmlns:xlink=\"http://www.w3.org/1999/xlink\" width=\"2.737ex\" height=\"1.724ex\" viewBox=\"0 -513 1178.6 742.1\" role=\"img\" focusable=\"false\" style=\"vertical-align: -0.532ex;\" aria-hidden=\"true\"><g stroke=\"currentColor\" fill=\"currentColor\" stroke-width=\"0\" transform=\"matrix(1 0 0 -1 0 0)\"><g is=\"true\"><g is=\"true\"><g is=\"true\"><g is=\"true\"><use xlink:href=\"#MJMATHBI-3C3\"></use></g></g><g is=\"true\" transform=\"translate(686,-150)\"><g is=\"true\"><use transform=\"scale(0.707)\" xlink:href=\"#MJMATHBI-65\"></use></g></g></g></g></g></svg><span class=\"MJX_Assistive_MathML\" role=\"presentation\"><math xmlns=\"http://www.w3.org/1998/Math/MathML\"><mrow is=\"true\"><msub is=\"true\"><mrow is=\"true\"><mi mathvariant=\"bold-italic\" is=\"true\">σ</mi></mrow><mrow is=\"true\"><mi mathvariant=\"bold-italic\" is=\"true\">e</mi></mrow></msub></mrow></math></span></span><script type=\"math/mml\" id=\"MathJax-Element-17\"><math><mrow is=\"true\"><msub is=\"true\"><mrow is=\"true\"><mi mathvariant=\"bold-italic\" is=\"true\">σ</mi></mrow><mrow is=\"true\"><mi mathvariant=\"bold-italic\" is=\"true\">e</mi></mrow></msub></mrow></math></script></span> (Scm<sup>−1</sup>)</th><th scope=\"col\"><span class=\"math\"><span class=\"MathJax_Preview\" style=\"\"></span><span class=\"MathJax_SVG\" id=\"MathJax-Element-18-Frame\" tabindex=\"0\" data-mathml=\"<math xmlns=&quot;http://www.w3.org/1998/Math/MathML&quot;><mrow is=&quot;true&quot;><msub is=&quot;true&quot;><mrow is=&quot;true&quot;><mi mathvariant=&quot;bold-italic&quot; is=&quot;true&quot;>&amp;#x3C3;</mi></mrow><mrow is=&quot;true&quot;><mi mathvariant=&quot;bold-italic&quot; is=&quot;true&quot;>i</mi></mrow></msub></mrow></math>\" role=\"presentation\" style=\"font-size: 90%; display: inline-block; position: relative;\"><svg xmlns:xlink=\"http://www.w3.org/1999/xlink\" width=\"2.493ex\" height=\"1.724ex\" viewBox=\"0 -513 1073.2 742.1\" role=\"img\" focusable=\"false\" style=\"vertical-align: -0.532ex;\" aria-hidden=\"true\"><g stroke=\"currentColor\" fill=\"currentColor\" stroke-width=\"0\" transform=\"matrix(1 0 0 -1 0 0)\"><g is=\"true\"><g is=\"true\"><g is=\"true\"><g is=\"true\"><use xlink:href=\"#MJMATHBI-3C3\"></use></g></g><g is=\"true\" transform=\"translate(686,-150)\"><g is=\"true\"><use transform=\"scale(0.707)\" xlink:href=\"#MJMATHBI-69\"></use></g></g></g></g></g></svg><span class=\"MJX_Assistive_MathML\" role=\"presentation\"><math xmlns=\"http://www.w3.org/1998/Math/MathML\"><mrow is=\"true\"><msub is=\"true\"><mrow is=\"true\"><mi mathvariant=\"bold-italic\" is=\"true\">σ</mi></mrow><mrow is=\"true\"><mi mathvariant=\"bold-italic\" is=\"true\">i</mi></mrow></msub></mrow></math></span></span><script type=\"math/mml\" id=\"MathJax-Element-18\"><math><mrow is=\"true\"><msub is=\"true\"><mrow is=\"true\"><mi mathvariant=\"bold-italic\" is=\"true\">σ</mi></mrow><mrow is=\"true\"><mi mathvariant=\"bold-italic\" is=\"true\">i</mi></mrow></msub></mrow></math></script></span> (Scm<sup>−1</sup>)</th><th scope=\"col\">CTE (10<sup>−6</sup>K<sup>−1</sup>)</th><th scope=\"col\">References</th></tr></thead><tbody><tr class=\"valign-top\"><td class=\"align-left\">La<sub>1-x</sub>Sr<sub>x</sub>MnO<sub>3</sub></td><td class=\"align-left\">130–300</td><td class=\"align-left\">5.93\\u202f×\\u202f10<sup>−7</sup></td><td class=\"align-left\">11–13</td><td class=\"align-left\">[<a class=\"anchor workspace-trigger u-display-inline anchor-paragraph\" href=\"#bib90\" name=\"bbib90\"><span class=\"anchor-text\">90</span></a>]</td></tr><tr class=\"valign-top\"><td class=\"align-left\">La<sub>1-x</sub>Sr<sub>x</sub>CoO<sub>3</sub></td><td class=\"align-left\">1200–1600</td><td class=\"align-left\">0.22</td><td class=\"align-left\">19–20</td><td class=\"align-left\">[<a class=\"anchor workspace-trigger u-display-inline anchor-paragraph\" href=\"#bib91\" name=\"bbib91\"><span class=\"anchor-text\">91</span></a>,<a class=\"anchor workspace-trigger u-display-inline anchor-paragraph\" href=\"#bib92\" name=\"bbib92\"><span class=\"anchor-text\">92</span></a>]</td></tr><tr class=\"valign-top\"><td class=\"align-left\">La<sub>1-x</sub>Sr<sub>x</sub>FeO<sub>3</sub></td><td class=\"align-left\">129–369</td><td class=\"align-left\">0.205–5.6\\u202f×\\u202f10<sup>−3</sup></td><td class=\"align-left\">12.2–16.3</td><td class=\"align-left\">[<a class=\"anchor workspace-trigger u-display-inline anchor-paragraph\" href=\"#bib93\" name=\"bbib93\"><span class=\"anchor-text\">[93]</span></a>, <a class=\"anchor workspace-trigger u-display-inline anchor-paragraph\" href=\"#bib94\" name=\"bbib94\"><span class=\"anchor-text\">[94]</span></a>, <a class=\"anchor workspace-trigger u-display-inline anchor-paragraph\" href=\"#bib95\" name=\"bbib95\"><span class=\"anchor-text\">[95]</span></a>]</td></tr><tr class=\"valign-top\"><td class=\"align-left\">La<sub>1-x</sub>Sr<sub>x</sub>CoFeO<sub>3</sub></td><td class=\"align-left\">87–1050</td><td class=\"align-left\">0.058–8\\u202f×\\u202f10<sup>−3</sup></td><td class=\"align-left\">14.8–21.4</td><td class=\"align-left\">[<a class=\"anchor workspace-trigger u-display-inline anchor-paragraph\" href=\"#bib96\" name=\"bbib96\"><span class=\"anchor-text\">96</span></a>,<a class=\"anchor workspace-trigger u-display-inline anchor-paragraph\" href=\"#bib97\" name=\"bbib97\"><span class=\"anchor-text\">97</span></a>]</td></tr><tr class=\"valign-top\"><td class=\"align-left\">Pr<sub>1-x</sub>Sr<sub>x</sub>Co<sub>1-y</sub>Fe<sub>y</sub>O<sub>3</sub></td><td class=\"align-left\">76–950</td><td class=\"align-left\">1.5\\u202f×\\u202f10<sup>−3</sup>-4.4\\u202f×\\u202f10<sup>−5</sup></td><td class=\"align-left\">12.8–21.3</td><td class=\"align-left\">[<a class=\"anchor workspace-trigger u-display-inline anchor-paragraph\" href=\"#bib95\" name=\"bbib95\"><span class=\"anchor-text\">95</span></a>,<a class=\"anchor workspace-trigger u-display-inline anchor-paragraph\" href=\"#bib98\" name=\"bbib98\"><span class=\"anchor-text\">98</span></a>]</td></tr><tr class=\"valign-top\"><td class=\"align-left\">Sm<sub>0.5</sub>Sr<sub>0.5</sub>CoO<sub>3</sub></td><td class=\"align-left\">&gt;1000</td><td class=\"align-left\">–</td><td class=\"align-left\">20.5</td><td class=\"align-left\">[<a class=\"anchor workspace-trigger u-display-inline anchor-paragraph\" href=\"#bib99\" name=\"bbib99\"><span class=\"anchor-text\">99</span></a>,<a class=\"anchor workspace-trigger u-display-inline anchor-paragraph\" href=\"#bib100\" name=\"bbib100\"><span class=\"anchor-text\">100</span></a>]</td></tr><tr class=\"valign-top\"><td class=\"align-left\">LaNi<sub>0.6</sub>Fe<sub>0.4</sub>O<sub>3</sub></td><td class=\"align-left\">580</td><td class=\"align-left\">–</td><td class=\"align-left\">11.4</td><td class=\"align-left\">[<a class=\"anchor workspace-trigger u-display-inline anchor-paragraph\" href=\"#bib101\" name=\"bbib101\"><span class=\"anchor-text\">101</span></a>]</td></tr></tbody></table>'"
      ]
     },
     "execution_count": 16,
     "metadata": {},
     "output_type": "execute_result"
    }
   ],
   "source": [
    "html_table_perovskiteSOFCs"
   ]
  },
  {
   "cell_type": "code",
   "execution_count": 17,
   "id": "549a0460",
   "metadata": {},
   "outputs": [],
   "source": [
    "with open(\"json_schema_perovskiteSOFCs.json\") as file:\n",
    "    json_schema_perovskiteSOFCs = json.load(file)\n",
    "    file.close()"
   ]
  },
  {
   "cell_type": "code",
   "execution_count": 18,
   "id": "5031d4e9",
   "metadata": {},
   "outputs": [
    {
     "data": {
      "text/plain": [
       "{'type': 'object',\n",
       " 'properties': {'Perovskite SOFC cathodes': {'type': 'array',\n",
       "   'items': {'type': 'object',\n",
       "    'properties': {'Composition': {'type': 'string'},\n",
       "     '𝝈𝒆  (Scm−1)': {'type': 'string'},\n",
       "     '𝝈𝒊  (Scm−1)': {'type': 'string'},\n",
       "     'CTE (10−6K−1)': {'type': 'string'},\n",
       "     'References': {'type': 'string'}}}}}}"
      ]
     },
     "execution_count": 18,
     "metadata": {},
     "output_type": "execute_result"
    }
   ],
   "source": [
    "json_schema_perovskiteSOFCs"
   ]
  },
  {
   "cell_type": "code",
   "execution_count": 19,
   "id": "f0e1fc03",
   "metadata": {},
   "outputs": [],
   "source": [
    "prompt_perovskiteSOFCs = prompt(prompt_template, html_table_perovskiteSOFCs, json_schema_perovskiteSOFCs)"
   ]
  },
  {
   "cell_type": "code",
   "execution_count": 20,
   "id": "b51ce5fd",
   "metadata": {},
   "outputs": [],
   "source": [
    "davinci_perovskiteSOFCs = model_davinci(prompt_perovskiteSOFCs)"
   ]
  },
  {
   "cell_type": "code",
   "execution_count": 106,
   "id": "4d245659",
   "metadata": {},
   "outputs": [],
   "source": [
    "with open('structured_openai_results/davinci_perovskiteSOFCs.json', 'w') as file:\n",
    "    json.dump(json.loads(davinci_perovskiteSOFCs), file)"
   ]
  },
  {
   "cell_type": "code",
   "execution_count": 107,
   "id": "23a433da",
   "metadata": {},
   "outputs": [],
   "source": [
    "with open(\"structured_openai_results/davinci_perovskiteSOFCs.json\") as file:\n",
    "    davinci_perovskiteSOFCs_json = json.load(file)\n",
    "    file.close()"
   ]
  },
  {
   "cell_type": "code",
   "execution_count": 108,
   "id": "a3af1454",
   "metadata": {},
   "outputs": [
    {
     "name": "stdout",
     "output_type": "stream",
     "text": [
      "{\n",
      "    \"Perovskite SOFC cathodes\": [\n",
      "        {\n",
      "            \"Composition\": \"La1-xSrxMnO3\",\n",
      "            \"𝝈𝒆  (Scm−1)\": \"130–300\",\n",
      "            \"𝝈𝒊  (Scm−1)\": \"5.93 × 10−7\",\n",
      "            \"CTE (10−6K−1)\": \"11–13\",\n",
      "            \"References\": \"[90]\"\n",
      "        },\n",
      "        {\n",
      "            \"Composition\": \"La1-xSrxCoO3\",\n",
      "            \"𝝈𝒆  (Scm−1)\": \"1200–1600\",\n",
      "            \"𝝈𝒊  (Scm−1)\": \"0.22\",\n",
      "            \"CTE (10−6K−1)\": \"19–20\",\n",
      "            \"References\": \"[91], [92]\"\n",
      "        },\n",
      "        {\n",
      "            \"Composition\": \"La1-xSrxFeO3\",\n",
      "            \"𝝈𝒆  (Scm−1)\": \"129–369\",\n",
      "            \"𝝈𝒊  (Scm−1)\": \"0.205–5.6 × 10−3\",\n",
      "            \"CTE (10−6K−1)\": \"12.2–16.3\",\n",
      "            \"References\": \"[93], [94], [95]\"\n",
      "        },\n",
      "        {\n",
      "            \"Composition\": \"La1-xSrxCoFeO3\",\n",
      "            \"𝝈𝒆  (Scm−1)\": \"87–1050\",\n",
      "            \"𝝈𝒊  (Scm−1)\": \"0.058–8 × 10−3\",\n",
      "            \"CTE (10−6K−1)\": \"14.8–21.4\",\n",
      "            \"References\": \"[96], [97]\"\n",
      "        },\n",
      "        {\n",
      "            \"Composition\": \"Pr1-xSrxCo1-yFeyO3\",\n",
      "            \"𝝈𝒆  (Scm−1)\": \"76–950\",\n",
      "            \"𝝈𝒊  (Scm−1)\": \"1.5 × 10−3-4.4 × 10−5\",\n",
      "            \"CTE (10−6K−1)\": \"12.8–21.3\",\n",
      "            \"References\": \"[95], [98]\"\n",
      "        },\n",
      "        {\n",
      "            \"Composition\": \"Sm0.5Sr0.5CoO3\",\n",
      "            \"𝝈𝒆  (Scm−1)\": \">1000\",\n",
      "            \"𝝈𝒊  (Scm−1)\": \"–\",\n",
      "            \"CTE (10−6K−1)\": \"20.5\",\n",
      "            \"References\": \"[99], [100]\"\n",
      "        },\n",
      "        {\n",
      "            \"Composition\": \"LaNi0.6Fe0.4O3\",\n",
      "            \"𝝈𝒆  (Scm−1)\": \"580\",\n",
      "            \"𝝈𝒊  (Scm−1)\": \"–\",\n",
      "            \"CTE (10−6K−1)\": \"11.4\",\n",
      "            \"References\": \"[101]\"\n",
      "        }\n",
      "    ]\n",
      "}\n"
     ]
    }
   ],
   "source": [
    "print(json.dumps(davinci_perovskiteSOFCs_json, indent=4, ensure_ascii=False))"
   ]
  }
 ],
 "metadata": {
  "kernelspec": {
   "display_name": "Python [conda env:llms]",
   "language": "python",
   "name": "conda-env-llms-py"
  },
  "language_info": {
   "codemirror_mode": {
    "name": "ipython",
    "version": 3
   },
   "file_extension": ".py",
   "mimetype": "text/x-python",
   "name": "python",
   "nbconvert_exporter": "python",
   "pygments_lexer": "ipython3",
   "version": "3.10.11"
  }
 },
 "nbformat": 4,
 "nbformat_minor": 5
}
