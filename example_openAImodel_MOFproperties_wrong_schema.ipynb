{
 "cells": [
  {
   "cell_type": "markdown",
   "id": "1028f7c5",
   "metadata": {},
   "source": [
    "# \n",
    "# JSON structured data from tables in scientific papers"
   ]
  },
  {
   "cell_type": "markdown",
   "id": "bfcaa3cc",
   "metadata": {},
   "source": [
    "## OpenAI model"
   ]
  },
  {
   "cell_type": "code",
   "execution_count": 1,
   "id": "6d0ceb35",
   "metadata": {},
   "outputs": [],
   "source": [
    "import os\n",
    "import json\n",
    "from typing import List\n",
    "\n",
    "from IPython.display import HTML\n",
    "from langchain.llms import OpenAI\n",
    "from pydantic import BaseModel, Field\n",
    "from pydantic.schema import schema\n",
    "\n",
    "os.environ[\"OPENAI_API_KEY\"] = \"your_openai_api_key\""
   ]
  },
  {
   "cell_type": "code",
   "execution_count": 4,
   "id": "3ae319ee",
   "metadata": {
    "scrolled": true
   },
   "outputs": [],
   "source": [
    "model_davinci = OpenAI(\n",
    "    model_name=\"text-davinci-003\",\n",
    "    temperature=0.9,\n",
    "    max_tokens=1200\n",
    "    )"
   ]
  },
  {
   "cell_type": "code",
   "execution_count": 5,
   "id": "854541c9",
   "metadata": {},
   "outputs": [],
   "source": [
    "prompt_template = \"\"\"\n",
    "Generate a JSON object extracting the information from this table in html code:\n",
    "\"\"\""
   ]
  },
  {
   "cell_type": "code",
   "execution_count": 6,
   "id": "ff54516a",
   "metadata": {},
   "outputs": [],
   "source": [
    "def prompt(prompt_template, html_table, json_schema):\n",
    "    prompt_output = \"Generate the JSON result with the following JSON schema and give only the JSON as output: \"\n",
    "    prompt = prompt_template + html_table + prompt_output + str(json_schema)\n",
    "    return prompt"
   ]
  },
  {
   "cell_type": "markdown",
   "id": "db3801f6",
   "metadata": {},
   "source": [
    "### Example wrong schema: table_MOFproperties / schema_catalystCO2"
   ]
  },
  {
   "cell_type": "code",
   "execution_count": 7,
   "id": "1919b52b",
   "metadata": {},
   "outputs": [],
   "source": [
    "with open(\"html_tables/html_table_MOFproperties.txt\", 'r') as file:\n",
    "    html_table_MOFproperties = file.read()\n",
    "    file.close()"
   ]
  },
  {
   "cell_type": "code",
   "execution_count": 8,
   "id": "103b8d42",
   "metadata": {
    "scrolled": true
   },
   "outputs": [
    {
     "data": {
      "text/plain": [
       "'<table class=\"table\" border=\"0\"><colgroup><col align=\"left\"><col align=\"char\" char=\".\"><col align=\"char\" char=\".\"><col align=\"char\" char=\".\"><col align=\"char\" char=\".\"><col align=\"char\" char=\".\"><col align=\"char\" char=\".\"><col align=\"char\" char=\".\"></colgroup><thead><tr valign=\"top\" class=\"colsep0\"><th class=\"colsep0 rowsep0\" scope=\"col\" align=\"center\">&nbsp;</th><th class=\"rowsep1 colsep0\" colspan=\"2\" scope=\"col\" align=\"center\" char=\".\">BET (m<sup>2</sup>/g)</th><th class=\"rowsep1 colsep0\" colspan=\"3\" scope=\"col\" align=\"center\" char=\".\"><i>V</i><sub>pore</sub> (cc/g)</th><th class=\"colsep0 rowsep0\" scope=\"col\" align=\"center\" char=\".\">&nbsp;</th><th class=\"colsep0 rowsep0\" scope=\"col\" align=\"center\" char=\".\">&nbsp;</th></tr><tr valign=\"top\" class=\"colsep0\"><th class=\"colsep0 rowsep0\" scope=\"col\" align=\"center\">MOFs</th><th class=\"colsep0 rowsep0\" scope=\"col\" align=\"center\" char=\".\">N<sub>2</sub></th><th class=\"colsep0 rowsep0\" scope=\"col\" align=\"center\" char=\".\">calcd</th><th class=\"colsep0 rowsep0\" scope=\"col\" align=\"center\" char=\".\">N<sub>2</sub></th><th class=\"colsep0 rowsep0\" scope=\"col\" align=\"center\" char=\".\">CH<sub>4</sub></th><th class=\"colsep0 rowsep0\" scope=\"col\" align=\"center\" char=\".\">calcd</th><th class=\"colsep0 rowsep0\" scope=\"col\" align=\"center\" char=\".\">ρ&nbsp;(g/cm<sup>3</sup>)</th><th class=\"colsep0 rowsep0\" scope=\"col\" align=\"center\" char=\".\">metal (mmol/cc)</th></tr></thead><tbody><tr valign=\"top\" class=\"colsep0\"><td class=\"colsep0 rowsep0\" scope=\"row\" align=\"left\">HKUST-1</td><td class=\"colsep0 rowsep0\" align=\"char\" char=\".\">1850</td><td class=\"colsep0 rowsep0\" align=\"char\" char=\".\">2064</td><td class=\"colsep0 rowsep0\" align=\"char\" char=\".\">0.78</td><td class=\"colsep0 rowsep0\" align=\"char\" char=\".\">0.78</td><td class=\"colsep0 rowsep0\" align=\"char\" char=\".\">0.78</td><td class=\"colsep0 rowsep0\" align=\"char\" char=\".\">0.883</td><td class=\"colsep0 rowsep0\" align=\"char\" char=\".\">4.38</td></tr><tr valign=\"top\" class=\"colsep0\"><td class=\"colsep0 rowsep0\" scope=\"row\" align=\"left\">Ni-MOF-74</td><td class=\"colsep0 rowsep0\" align=\"char\" char=\".\">1350</td><td class=\"colsep0 rowsep0\" align=\"char\" char=\".\">1240</td><td class=\"colsep0 rowsep0\" align=\"char\" char=\".\">0.51</td><td class=\"colsep0 rowsep0\" align=\"char\" char=\".\">0.52</td><td class=\"colsep0 rowsep0\" align=\"char\" char=\".\">0.49</td><td class=\"colsep0 rowsep0\" align=\"char\" char=\".\">1.206</td><td class=\"colsep0 rowsep0\" align=\"char\" char=\".\">7.74</td></tr><tr valign=\"top\" class=\"colsep0\"><td class=\"colsep0 rowsep0\" scope=\"row\" align=\"left\">PCN-14</td><td class=\"colsep0 rowsep0\" align=\"char\" char=\".\">2000</td><td class=\"colsep0 rowsep0\" align=\"char\" char=\".\">2170</td><td class=\"colsep0 rowsep0\" align=\"char\" char=\".\">0.85</td><td class=\"colsep0 rowsep0\" align=\"char\" char=\".\">0.78</td><td class=\"colsep0 rowsep0\" align=\"char\" char=\".\">0.76</td><td class=\"colsep0 rowsep0\" align=\"char\" char=\".\">0.829</td><td class=\"colsep0 rowsep0\" align=\"char\" char=\".\">2.59</td></tr><tr valign=\"top\" class=\"colsep0\"><td class=\"colsep0 rowsep0\" scope=\"row\" align=\"left\">UTSA-20</td><td class=\"colsep0 rowsep0\" align=\"char\" char=\".\">1620</td><td class=\"colsep0 rowsep0\" align=\"char\" char=\".\">1960</td><td class=\"colsep0 rowsep0\" align=\"char\" char=\".\">0.66</td><td class=\"colsep0 rowsep0\" align=\"char\" char=\".\">0.66</td><td class=\"colsep0 rowsep0\" align=\"char\" char=\".\">0.69</td><td class=\"colsep0 rowsep0\" align=\"char\" char=\".\">0.909</td><td class=\"colsep0 rowsep0\" align=\"char\" char=\".\">3.61</td></tr><tr valign=\"top\" class=\"colsep0\"><td class=\"colsep0 rowsep0\" scope=\"row\" align=\"left\">NU-125</td><td class=\"colsep0 rowsep0\" align=\"char\" char=\".\">3120</td><td class=\"colsep0 rowsep0\" align=\"char\" char=\".\">3680</td><td class=\"colsep0 rowsep0\" align=\"char\" char=\".\">1.29</td><td class=\"colsep0 rowsep0\" align=\"char\" char=\".\">1.23</td><td class=\"colsep0 rowsep0\" align=\"char\" char=\".\">1.32</td><td class=\"colsep0 rowsep0\" align=\"char\" char=\".\">0.578</td><td class=\"colsep0 rowsep0\" align=\"char\" char=\".\">1.82</td></tr><tr valign=\"top\" class=\"colsep0\"><td class=\"colsep0 rowsep0\" scope=\"row\" align=\"left\">NU-111</td><td class=\"colsep0 rowsep0\" align=\"char\" char=\".\">4930</td><td class=\"colsep0 rowsep0\" align=\"char\" char=\".\">4650</td><td class=\"colsep0 rowsep0\" align=\"char\" char=\".\">2.09</td><td class=\"colsep0 rowsep0\" align=\"char\" char=\".\">2.12</td><td class=\"colsep0 rowsep0\" align=\"char\" char=\".\">2.03</td><td class=\"colsep0 rowsep0\" align=\"char\" char=\".\">0.409</td><td class=\"colsep0 rowsep0\" align=\"char\" char=\".\">1.36</td></tr></tbody></table>'"
      ]
     },
     "execution_count": 8,
     "metadata": {},
     "output_type": "execute_result"
    }
   ],
   "source": [
    "html_table_MOFproperties"
   ]
  },
  {
   "cell_type": "code",
   "execution_count": 19,
   "id": "e14537db",
   "metadata": {},
   "outputs": [
    {
     "data": {
      "text/html": [
       "<table class=\"table\" border=\"0\"><colgroup><col align=\"left\"><col align=\"char\" char=\".\"><col align=\"char\" char=\".\"><col align=\"char\" char=\".\"><col align=\"char\" char=\".\"><col align=\"char\" char=\".\"><col align=\"char\" char=\".\"><col align=\"char\" char=\".\"></colgroup><thead><tr valign=\"top\" class=\"colsep0\"><th class=\"colsep0 rowsep0\" scope=\"col\" align=\"center\">&nbsp;</th><th class=\"rowsep1 colsep0\" colspan=\"2\" scope=\"col\" align=\"center\" char=\".\">BET (m<sup>2</sup>/g)</th><th class=\"rowsep1 colsep0\" colspan=\"3\" scope=\"col\" align=\"center\" char=\".\"><i>V</i><sub>pore</sub> (cc/g)</th><th class=\"colsep0 rowsep0\" scope=\"col\" align=\"center\" char=\".\">&nbsp;</th><th class=\"colsep0 rowsep0\" scope=\"col\" align=\"center\" char=\".\">&nbsp;</th></tr><tr valign=\"top\" class=\"colsep0\"><th class=\"colsep0 rowsep0\" scope=\"col\" align=\"center\">MOFs</th><th class=\"colsep0 rowsep0\" scope=\"col\" align=\"center\" char=\".\">N<sub>2</sub></th><th class=\"colsep0 rowsep0\" scope=\"col\" align=\"center\" char=\".\">calcd</th><th class=\"colsep0 rowsep0\" scope=\"col\" align=\"center\" char=\".\">N<sub>2</sub></th><th class=\"colsep0 rowsep0\" scope=\"col\" align=\"center\" char=\".\">CH<sub>4</sub></th><th class=\"colsep0 rowsep0\" scope=\"col\" align=\"center\" char=\".\">calcd</th><th class=\"colsep0 rowsep0\" scope=\"col\" align=\"center\" char=\".\">ρ&nbsp;(g/cm<sup>3</sup>)</th><th class=\"colsep0 rowsep0\" scope=\"col\" align=\"center\" char=\".\">metal (mmol/cc)</th></tr></thead><tbody><tr valign=\"top\" class=\"colsep0\"><td class=\"colsep0 rowsep0\" scope=\"row\" align=\"left\">HKUST-1</td><td class=\"colsep0 rowsep0\" align=\"char\" char=\".\">1850</td><td class=\"colsep0 rowsep0\" align=\"char\" char=\".\">2064</td><td class=\"colsep0 rowsep0\" align=\"char\" char=\".\">0.78</td><td class=\"colsep0 rowsep0\" align=\"char\" char=\".\">0.78</td><td class=\"colsep0 rowsep0\" align=\"char\" char=\".\">0.78</td><td class=\"colsep0 rowsep0\" align=\"char\" char=\".\">0.883</td><td class=\"colsep0 rowsep0\" align=\"char\" char=\".\">4.38</td></tr><tr valign=\"top\" class=\"colsep0\"><td class=\"colsep0 rowsep0\" scope=\"row\" align=\"left\">Ni-MOF-74</td><td class=\"colsep0 rowsep0\" align=\"char\" char=\".\">1350</td><td class=\"colsep0 rowsep0\" align=\"char\" char=\".\">1240</td><td class=\"colsep0 rowsep0\" align=\"char\" char=\".\">0.51</td><td class=\"colsep0 rowsep0\" align=\"char\" char=\".\">0.52</td><td class=\"colsep0 rowsep0\" align=\"char\" char=\".\">0.49</td><td class=\"colsep0 rowsep0\" align=\"char\" char=\".\">1.206</td><td class=\"colsep0 rowsep0\" align=\"char\" char=\".\">7.74</td></tr><tr valign=\"top\" class=\"colsep0\"><td class=\"colsep0 rowsep0\" scope=\"row\" align=\"left\">PCN-14</td><td class=\"colsep0 rowsep0\" align=\"char\" char=\".\">2000</td><td class=\"colsep0 rowsep0\" align=\"char\" char=\".\">2170</td><td class=\"colsep0 rowsep0\" align=\"char\" char=\".\">0.85</td><td class=\"colsep0 rowsep0\" align=\"char\" char=\".\">0.78</td><td class=\"colsep0 rowsep0\" align=\"char\" char=\".\">0.76</td><td class=\"colsep0 rowsep0\" align=\"char\" char=\".\">0.829</td><td class=\"colsep0 rowsep0\" align=\"char\" char=\".\">2.59</td></tr><tr valign=\"top\" class=\"colsep0\"><td class=\"colsep0 rowsep0\" scope=\"row\" align=\"left\">UTSA-20</td><td class=\"colsep0 rowsep0\" align=\"char\" char=\".\">1620</td><td class=\"colsep0 rowsep0\" align=\"char\" char=\".\">1960</td><td class=\"colsep0 rowsep0\" align=\"char\" char=\".\">0.66</td><td class=\"colsep0 rowsep0\" align=\"char\" char=\".\">0.66</td><td class=\"colsep0 rowsep0\" align=\"char\" char=\".\">0.69</td><td class=\"colsep0 rowsep0\" align=\"char\" char=\".\">0.909</td><td class=\"colsep0 rowsep0\" align=\"char\" char=\".\">3.61</td></tr><tr valign=\"top\" class=\"colsep0\"><td class=\"colsep0 rowsep0\" scope=\"row\" align=\"left\">NU-125</td><td class=\"colsep0 rowsep0\" align=\"char\" char=\".\">3120</td><td class=\"colsep0 rowsep0\" align=\"char\" char=\".\">3680</td><td class=\"colsep0 rowsep0\" align=\"char\" char=\".\">1.29</td><td class=\"colsep0 rowsep0\" align=\"char\" char=\".\">1.23</td><td class=\"colsep0 rowsep0\" align=\"char\" char=\".\">1.32</td><td class=\"colsep0 rowsep0\" align=\"char\" char=\".\">0.578</td><td class=\"colsep0 rowsep0\" align=\"char\" char=\".\">1.82</td></tr><tr valign=\"top\" class=\"colsep0\"><td class=\"colsep0 rowsep0\" scope=\"row\" align=\"left\">NU-111</td><td class=\"colsep0 rowsep0\" align=\"char\" char=\".\">4930</td><td class=\"colsep0 rowsep0\" align=\"char\" char=\".\">4650</td><td class=\"colsep0 rowsep0\" align=\"char\" char=\".\">2.09</td><td class=\"colsep0 rowsep0\" align=\"char\" char=\".\">2.12</td><td class=\"colsep0 rowsep0\" align=\"char\" char=\".\">2.03</td><td class=\"colsep0 rowsep0\" align=\"char\" char=\".\">0.409</td><td class=\"colsep0 rowsep0\" align=\"char\" char=\".\">1.36</td></tr></tbody></table>"
      ],
      "text/plain": [
       "<IPython.core.display.HTML object>"
      ]
     },
     "execution_count": 19,
     "metadata": {},
     "output_type": "execute_result"
    }
   ],
   "source": [
    "HTML(html_table_MOFproperties)"
   ]
  },
  {
   "cell_type": "code",
   "execution_count": 21,
   "id": "d3ef681f",
   "metadata": {},
   "outputs": [],
   "source": [
    "with open(\"html_tables/html_table_catalystCO2.txt\", 'r') as file:\n",
    "    html_table_catalystCO2 = file.read()\n",
    "    file.close()"
   ]
  },
  {
   "cell_type": "code",
   "execution_count": 22,
   "id": "b723f5ef",
   "metadata": {},
   "outputs": [
    {
     "data": {
      "text/html": [
       "<table class=\"table \"><colgroup><col align=\"left\"><col align=\"left\"><col align=\"left\"><col align=\"char\" char=\".\"><col align=\"char\" char=\".\"><col align=\"char\" char=\".\"><col align=\"char\" char=\".\"><col align=\"char\" char=\".\"><col align=\"char\" char=\".\"><col align=\"char\" char=\".\"><col align=\"left\"></colgroup><thead><tr valign=\"top\" class=\"colsep0\"><th class=\"colsep0 rowsep0\" scope=\"col\" align=\"center\">catalyst</th><th class=\"colsep0 rowsep0\" scope=\"col\" align=\"center\">synthesis method</th><th class=\"colsep0 rowsep0\" scope=\"col\" align=\"center\">promoter incorporation</th><th class=\"colsep0 rowsep0\" scope=\"col\" align=\"center\" char=\".\"><i>X</i>&nbsp;CO<sub>2</sub> (%)</th><th class=\"colsep0 rowsep0\" scope=\"col\" align=\"center\" char=\".\"><i>S</i>&nbsp;CO (%)</th><th class=\"colsep0 rowsep0\" scope=\"col\" align=\"center\" char=\".\"><i>S</i>&nbsp;C<sub>1</sub> (%)</th><th class=\"colsep0 rowsep0\" scope=\"col\" align=\"center\" char=\".\"><i>S</i>&nbsp;C<sub>2</sub>–C<sub>4</sub> (%)</th><th class=\"colsep0 rowsep0\" scope=\"col\" align=\"center\" char=\".\"><i>S</i>&nbsp;C<sub>5+</sub> (%)</th><th class=\"colsep0 rowsep0\" scope=\"col\" align=\"center\" char=\".\">temperature (°C)</th><th class=\"colsep0 rowsep0\" scope=\"col\" align=\"center\" char=\".\"><i>P</i>&nbsp;(MPa)</th><th class=\"colsep0 rowsep0\" scope=\"col\" align=\"center\">reference</th></tr></thead><tbody><tr valign=\"top\" class=\"colsep0\"><td class=\"colsep0 rowsep0\" scope=\"row\" align=\"left\">Fe–Cu–K</td><td class=\"colsep0 rowsep0\" align=\"left\">triple incipient wetness impregnation</td><td class=\"colsep0 rowsep0\" align=\"left\">impregnation</td><td class=\"colsep0 rowsep0\" align=\"char\" char=\".\">15</td><td class=\"colsep0 rowsep0\" align=\"char\" char=\".\">50</td><td class=\"colsep0 rowsep0\" align=\"char\" char=\".\">11.00</td><td class=\"colsep0 rowsep0\" align=\"char\" char=\".\">21.00</td><td class=\"colsep0 rowsep0\" align=\"char\" char=\".\">18.00</td><td class=\"colsep0 rowsep0\" align=\"char\" char=\".\">350</td><td class=\"colsep0 rowsep0\" align=\"char\" char=\".\">8.6</td><td class=\"colsep0 rowsep0\" align=\"left\"> <a onclick=\"showRef(event, 'ref64'); return false;\" href=\"javascript:void(0);\" class=\"ref ref64\" aria-label=\"reference 64\">(64)</a></td></tr><tr valign=\"top\" class=\"colsep0\"><td class=\"colsep0 rowsep0\" scope=\"row\" align=\"left\">Fe–PYL</td><td class=\"colsep0 rowsep0\" align=\"left\">hydrothermal</td><td class=\"colsep0 rowsep0\" align=\"left\">hydrothermal</td><td class=\"colsep0 rowsep0\" align=\"char\" char=\".\">21.6</td><td class=\"colsep0 rowsep0\" align=\"char\" char=\".\">29.2</td><td class=\"colsep0 rowsep0\" align=\"char\" char=\".\">36.80</td><td class=\"colsep0 rowsep0\" align=\"char\" char=\".\">46.00</td><td class=\"colsep0 rowsep0\" align=\"char\" char=\".\">17.20</td><td class=\"colsep0 rowsep0\" align=\"char\" char=\".\">300</td><td class=\"colsep0 rowsep0\" align=\"char\" char=\".\">1</td><td class=\"colsep0 rowsep0\" align=\"left\"> <a onclick=\"showRef(event, 'ref65'); return false;\" href=\"javascript:void(0);\" class=\"ref ref65\" aria-label=\"reference 65\">(65)</a></td></tr><tr valign=\"top\" class=\"colsep0\"><td class=\"colsep0 rowsep0\" scope=\"row\" align=\"left\">Fe–K</td><td class=\"colsep0 rowsep0\" align=\"left\">templated synthesis</td><td class=\"colsep0 rowsep0\" align=\"left\">ultrasonic-assisted melt infiltration</td><td class=\"colsep0 rowsep0\" align=\"char\" char=\".\">50.6</td><td class=\"colsep0 rowsep0\" align=\"char\" char=\".\">8.2</td><td class=\"colsep0 rowsep0\" align=\"char\" char=\".\">15.42</td><td class=\"colsep0 rowsep0\" align=\"char\" char=\".\">31.95</td><td class=\"colsep0 rowsep0\" align=\"char\" char=\".\">44.52</td><td class=\"colsep0 rowsep0\" align=\"char\" char=\".\">300</td><td class=\"colsep0 rowsep0\" align=\"char\" char=\".\">2.5</td><td class=\"colsep0 rowsep0\" align=\"left\"> <a onclick=\"showRef(event, 'ref66'); return false;\" href=\"javascript:void(0);\" class=\"ref ref66\" aria-label=\"reference 66\">(66)</a></td></tr><tr valign=\"top\" class=\"colsep0\"><td class=\"colsep0 rowsep0\" scope=\"row\" align=\"left\">MnFe–N<sub>2</sub></td><td class=\"colsep0 rowsep0\" align=\"left\">dry impregnation</td><td class=\"colsep0 rowsep0\" align=\"left\">impregnation</td><td class=\"colsep0 rowsep0\" align=\"char\" char=\".\">25.2</td><td class=\"colsep0 rowsep0\" align=\"char\" char=\".\">35.6</td><td class=\"colsep0 rowsep0\" align=\"char\" char=\".\">39.8</td><td class=\"colsep0 rowsep0\" align=\"char\" char=\".\">21.92</td><td class=\"colsep0 rowsep0\" align=\"char\" char=\".\">1.00</td><td class=\"colsep0 rowsep0\" align=\"char\" char=\".\">360</td><td class=\"colsep0 rowsep0\" align=\"char\" char=\".\">2.5</td><td class=\"colsep0 rowsep0\" align=\"left\"> <a onclick=\"showRef(event, 'ref67'); return false;\" href=\"javascript:void(0);\" class=\"ref ref67\" aria-label=\"reference 67\">(67)</a></td></tr><tr valign=\"top\" class=\"colsep0\"><td class=\"colsep0 rowsep0\" scope=\"row\" align=\"left\">Fe<sub>2</sub>O<sub>3</sub></td><td class=\"colsep0 rowsep0\" align=\"left\">precipitation</td><td class=\"colsep0 rowsep0\" align=\"left\">cellulose templated</td><td class=\"colsep0 rowsep0\" align=\"char\" char=\".\">40</td><td class=\"colsep0 rowsep0\" align=\"char\" char=\".\">15</td><td class=\"colsep0 rowsep0\" align=\"char\" char=\".\">11.9</td><td class=\"colsep0 rowsep0\" align=\"char\" char=\".\">36.98</td><td class=\"colsep0 rowsep0\" align=\"char\" char=\".\">36.04</td><td class=\"colsep0 rowsep0\" align=\"char\" char=\".\">300</td><td class=\"colsep0 rowsep0\" align=\"char\" char=\".\">1.5</td><td class=\"colsep0 rowsep0\" align=\"left\"> <a onclick=\"showRef(event, 'ref68'); return false;\" href=\"javascript:void(0);\" class=\"ref ref68\" aria-label=\"reference 68\">(68)</a></td></tr></tbody></table>"
      ],
      "text/plain": [
       "<IPython.core.display.HTML object>"
      ]
     },
     "execution_count": 22,
     "metadata": {},
     "output_type": "execute_result"
    }
   ],
   "source": [
    "HTML(html_table_catalystCO2)"
   ]
  },
  {
   "cell_type": "code",
   "execution_count": 23,
   "id": "80bd1067",
   "metadata": {},
   "outputs": [],
   "source": [
    "with open(\"json_schemas/json_schema_catalystCO2.json\") as file:\n",
    "    json_schema_catalystCO2 = json.load(file)\n",
    "    file.close()"
   ]
  },
  {
   "cell_type": "code",
   "execution_count": 24,
   "id": "36252d1e",
   "metadata": {},
   "outputs": [
    {
     "data": {
      "text/plain": [
       "{'type': 'object',\n",
       " 'properties': {'Carbon-supported catalysts CO2': {'type': 'array',\n",
       "   'items': {'type': 'object',\n",
       "    'properties': {'Catalyst': {'type': 'string'},\n",
       "     'Synthesis method': {'type': 'string'},\n",
       "     'Promoter incorporation': {'type': 'string'},\n",
       "     'X CO2 (%)': {'type': 'number'},\n",
       "     'S CO (%)': {'type': 'number'},\n",
       "     'S C1 (%)': {'type': 'number'},\n",
       "     'S C2–C4 (%)': {'type': 'number'},\n",
       "     'S C5+ (%)': {'type': 'number'},\n",
       "     'Temperature (°C)': {'type': 'number'},\n",
       "     'P (MPa)': {'type': 'number'}}}}}}"
      ]
     },
     "execution_count": 24,
     "metadata": {},
     "output_type": "execute_result"
    }
   ],
   "source": [
    "json_schema_catalystCO2"
   ]
  },
  {
   "cell_type": "code",
   "execution_count": 25,
   "id": "9b331b79",
   "metadata": {},
   "outputs": [],
   "source": [
    "prompt_MOFproperties_wrong_schema = prompt(prompt_template, html_table_MOFproperties, json_schema_catalystCO2)"
   ]
  },
  {
   "cell_type": "code",
   "execution_count": 26,
   "id": "326ea66a",
   "metadata": {},
   "outputs": [],
   "source": [
    "davinci_MOFproperties_wrong_schema = model_davinci(prompt_MOFproperties_wrong_schema)"
   ]
  },
  {
   "cell_type": "code",
   "execution_count": 30,
   "id": "4c93133f",
   "metadata": {},
   "outputs": [],
   "source": [
    "with open(\"structured_openai_results/davinci_MOFproperties_wrong_schema.json\", 'w') as file:\n",
    "    json.dump(json.loads(davinci_MOFproperties_wrong_schema), file)"
   ]
  },
  {
   "cell_type": "code",
   "execution_count": 31,
   "id": "ae9664f8",
   "metadata": {},
   "outputs": [],
   "source": [
    "with open(\"structured_openai_results/davinci_MOFproperties_wrong_schema.json\") as file:\n",
    "    davinci_MOFproperties_wrong_schema_json = json.load(file)\n",
    "    file.close()"
   ]
  },
  {
   "cell_type": "code",
   "execution_count": 32,
   "id": "ece2e6a8",
   "metadata": {},
   "outputs": [
    {
     "name": "stdout",
     "output_type": "stream",
     "text": [
      "[\n",
      "    {\n",
      "        \"MOFs\": \"HKUST-1\",\n",
      "        \"N2\": 1850,\n",
      "        \"calcd\": 2064,\n",
      "        \"VporeN2\": 0.78,\n",
      "        \"VporeCH4\": 0.78,\n",
      "        \"calcdVpore\": 0.78,\n",
      "        \"ρg/cm3\": 0.883,\n",
      "        \"metalmmol/cc\": 4.38\n",
      "    },\n",
      "    {\n",
      "        \"MOFs\": \"Ni-MOF-74\",\n",
      "        \"N2\": 1350,\n",
      "        \"calcd\": 1240,\n",
      "        \"VporeN2\": 0.51,\n",
      "        \"VporeCH4\": 0.52,\n",
      "        \"calcdVpore\": 0.49,\n",
      "        \"ρg/cm3\": 1.206,\n",
      "        \"metalmmol/cc\": 7.74\n",
      "    },\n",
      "    {\n",
      "        \"MOFs\": \"PCN-14\",\n",
      "        \"N2\": 2000,\n",
      "        \"calcd\": 2170,\n",
      "        \"VporeN2\": 0.85,\n",
      "        \"VporeCH4\": 0.78,\n",
      "        \"calcdVpore\": 0.76,\n",
      "        \"ρg/cm3\": 0.829,\n",
      "        \"metalmmol/cc\": 2.59\n",
      "    },\n",
      "    {\n",
      "        \"MOFs\": \"UTSA-20\",\n",
      "        \"N2\": 1620,\n",
      "        \"calcd\": 1960,\n",
      "        \"VporeN2\": 0.66,\n",
      "        \"VporeCH4\": 0.66,\n",
      "        \"calcdVpore\": 0.69,\n",
      "        \"ρg/cm3\": 0.909,\n",
      "        \"metalmmol/cc\": 3.61\n",
      "    },\n",
      "    {\n",
      "        \"MOFs\": \"NU-125\",\n",
      "        \"N2\": 3120,\n",
      "        \"calcd\": 3680,\n",
      "        \"VporeN2\": 1.29,\n",
      "        \"VporeCH4\": 1.23,\n",
      "        \"calcdVpore\": 1.32,\n",
      "        \"ρg/cm3\": 0.578,\n",
      "        \"metalmmol/cc\": 1.82\n",
      "    },\n",
      "    {\n",
      "        \"MOFs\": \"NU-111\",\n",
      "        \"N2\": 4930,\n",
      "        \"calcd\": 4650,\n",
      "        \"VporeN2\": 2.09,\n",
      "        \"VporeCH4\": 2.12,\n",
      "        \"calcdVpore\": 2.03,\n",
      "        \"ρg/cm3\": 0.409,\n",
      "        \"metalmmol/cc\": 1.36\n",
      "    }\n",
      "]\n"
     ]
    }
   ],
   "source": [
    "print(json.dumps(davinci_MOFproperties_wrong_schema_json, indent=4, ensure_ascii=False))"
   ]
  }
 ],
 "metadata": {
  "kernelspec": {
   "display_name": "Python [conda env:llms]",
   "language": "python",
   "name": "conda-env-llms-py"
  },
  "language_info": {
   "codemirror_mode": {
    "name": "ipython",
    "version": 3
   },
   "file_extension": ".py",
   "mimetype": "text/x-python",
   "name": "python",
   "nbconvert_exporter": "python",
   "pygments_lexer": "ipython3",
   "version": "3.10.11"
  }
 },
 "nbformat": 4,
 "nbformat_minor": 5
}
