{
 "cells": [
  {
   "cell_type": "markdown",
   "id": "1028f7c5",
   "metadata": {},
   "source": [
    "# \n",
    "# JSON structured data from tables in scientific papers"
   ]
  },
  {
   "cell_type": "markdown",
   "id": "689d53a5",
   "metadata": {},
   "source": [
    "## OpenAI model"
   ]
  },
  {
   "cell_type": "code",
   "execution_count": 1,
   "id": "6d0ceb35",
   "metadata": {},
   "outputs": [],
   "source": [
    "import os\n",
    "import json\n",
    "from typing import List\n",
    "\n",
    "from IPython.display import HTML\n",
    "from langchain.llms import OpenAI\n",
    "from pydantic import BaseModel, Field\n",
    "from pydantic.schema import schema\n",
    "\n",
    "os.environ[\"OPENAI_API_KEY\"] = \"your_openai_api_key\""
   ]
  },
  {
   "cell_type": "code",
   "execution_count": 4,
   "id": "3ae319ee",
   "metadata": {
    "scrolled": true
   },
   "outputs": [],
   "source": [
    "model_davinci = OpenAI(\n",
    "    model_name=\"text-davinci-003\",\n",
    "    temperature=0.9,\n",
    "    max_tokens=1200\n",
    "    )"
   ]
  },
  {
   "cell_type": "code",
   "execution_count": 5,
   "id": "854541c9",
   "metadata": {},
   "outputs": [],
   "source": [
    "prompt_template = \"\"\"\n",
    "Generate a JSON object extracting the information from this table in html code:\n",
    "\"\"\""
   ]
  },
  {
   "cell_type": "code",
   "execution_count": 6,
   "id": "ff54516a",
   "metadata": {},
   "outputs": [],
   "source": [
    "def prompt(prompt_template, html_table, json_schema):\n",
    "    prompt_output = \"Generate the JSON result with the following JSON schema and give only the JSON as output: \"\n",
    "    prompt = prompt_template + html_table + prompt_output + str(json_schema)\n",
    "    return prompt"
   ]
  },
  {
   "cell_type": "markdown",
   "id": "cd1ea699",
   "metadata": {},
   "source": [
    "### Example: Supercapacitor performance of 2D nanocomposite materials"
   ]
  },
  {
   "cell_type": "code",
   "execution_count": 7,
   "id": "5770a1b0",
   "metadata": {},
   "outputs": [],
   "source": [
    "with open(\"html_tables/html_table_supercapacitor.txt\", 'r') as file:\n",
    "    html_table_supercapacitor = file.read()\n",
    "    file.close()import json"
   ]
  },
  {
   "cell_type": "code",
   "execution_count": 8,
   "id": "fe25aac1",
   "metadata": {
    "scrolled": true
   },
   "outputs": [
    {
     "data": {
      "text/plain": [
       "'<table><thead><tr class=\"rowsep-1 valign-top\"><th scope=\"col\">Sl no</th><th scope=\"col\">Electrodes</th><th scope=\"col\">Specific capacitance (F/g)</th><th scope=\"col\">Electrolyte</th><th scope=\"col\">Current density (A/g)</th><th scope=\"col\">Ref.</th></tr></thead><tbody><tr><td class=\"align-char\">1</td><td>FG</td><td class=\"align-char\">276</td><td>1&nbsp;M H<sub>2</sub>SO<sub>4</sub></td><td>0.1</td><td><a class=\"anchor workspace-trigger u-display-inline anchor-paragraph\" href=\"#bb0425\" name=\"bbb0425\"><span class=\"anchor-text\">[85]</span></a></td></tr><tr><td class=\"align-char\">2</td><td>Ti<sub>3</sub>C<sub>2</sub>T<sub>x</sub></td><td class=\"align-char\">140</td><td>1&nbsp;M KOH</td><td>5&nbsp;mV/s</td><td><a class=\"anchor workspace-trigger u-display-inline anchor-paragraph\" href=\"#bb0430\" name=\"bbb0430\"><span class=\"anchor-text\">[86]</span></a></td></tr><tr><td class=\"align-char\">3</td><td>EDA- Ti<sub>3</sub>C<sub>2</sub>T<sub>x</sub></td><td class=\"align-char\">486.2</td><td>1&nbsp;M H<sub>2</sub>SO<sub>4</sub></td><td>2&nbsp;mV/s</td><td><a class=\"anchor workspace-trigger u-display-inline anchor-paragraph\" href=\"#bb0440\" name=\"bbb0440\"><span class=\"anchor-text\">[88]</span></a></td></tr><tr><td class=\"align-char\">4</td><td>MoS<sub>2</sub> NW</td><td class=\"align-char\">122</td><td>1&nbsp;M Na<sub>2</sub>SO<sub>4</sub></td><td>0.5</td><td><a class=\"anchor workspace-trigger u-display-inline anchor-paragraph\" href=\"#bb0445\" name=\"bbb0445\"><span class=\"anchor-text\">[89]</span></a></td></tr><tr><td class=\"align-char\">5</td><td>MoS<sub>2</sub> NS</td><td class=\"align-char\">138</td><td>1&nbsp;M Na<sub>2</sub>SO<sub>4</sub></td><td>1</td><td><a class=\"anchor workspace-trigger u-display-inline anchor-paragraph\" href=\"#bb0450\" name=\"bbb0450\"><span class=\"anchor-text\">[90]</span></a></td></tr><tr><td class=\"align-char\">6</td><td>MoS<sub>2</sub> NW</td><td class=\"align-char\">142</td><td>1&nbsp;M KCL</td><td>0.59</td><td><a class=\"anchor workspace-trigger u-display-inline anchor-paragraph\" href=\"#bb0455\" name=\"bbb0455\"><span class=\"anchor-text\">[91]</span></a></td></tr><tr><td class=\"align-char\">7</td><td>NiCo-LDHs</td><td class=\"align-char\">1187.2</td><td>6&nbsp;M KOH</td><td>1</td><td><a class=\"anchor workspace-trigger u-display-inline anchor-paragraph\" href=\"#bb0460\" name=\"bbb0460\"><span class=\"anchor-text\">[92]</span></a></td></tr><tr><td class=\"align-char\">8</td><td>CoS<sub>x</sub>/Ni-Co LDH</td><td class=\"align-char\">1562</td><td>6&nbsp;M KOH</td><td>1</td><td><a class=\"anchor workspace-trigger u-display-inline anchor-paragraph\" href=\"#bb0465\" name=\"bbb0465\"><span class=\"anchor-text\">[93]</span></a></td></tr></tbody></table>'"
      ]
     },
     "execution_count": 8,
     "metadata": {},
     "output_type": "execute_result"
    }
   ],
   "source": [
    "html_table_supercapacitor"
   ]
  },
  {
   "cell_type": "code",
   "execution_count": 9,
   "id": "ce4b2619",
   "metadata": {},
   "outputs": [],
   "source": [
    "with open(\"json_schemas/json_schema_supercapacitor.json\") as file:\n",
    "    json_schema_supercapacitor = json.load(file)\n",
    "    file.close()"
   ]
  },
  {
   "cell_type": "code",
   "execution_count": 10,
   "id": "a26231f0",
   "metadata": {
    "scrolled": true
   },
   "outputs": [
    {
     "data": {
      "text/plain": [
       "{'type': 'object',\n",
       " 'properties': {'Nanocomposites': {'type': 'array',\n",
       "   'items': {'type': 'object',\n",
       "    'properties': {'Electrode': {'type': 'string'},\n",
       "     'Specific capacitance (F/g)': {'type': 'number'},\n",
       "     'Electrolyte': {'type': 'string'},\n",
       "     'Current density (A/g)': {'type': 'string'}}}}}}"
      ]
     },
     "execution_count": 10,
     "metadata": {},
     "output_type": "execute_result"
    }
   ],
   "source": [
    "json_schema_supercapacitor"
   ]
  },
  {
   "cell_type": "code",
   "execution_count": 30,
   "id": "d644dd8e",
   "metadata": {},
   "outputs": [],
   "source": [
    "prompt_supercapacitor = prompt(prompt_template, html_table_supercapacitor, json_schema_supercapacitor)"
   ]
  },
  {
   "cell_type": "code",
   "execution_count": 31,
   "id": "5e721294",
   "metadata": {},
   "outputs": [],
   "source": [
    "davinci_supercapacitor = model_davinci(prompt_supercapacitor)"
   ]
  },
  {
   "cell_type": "markdown",
   "id": "9e441a4d",
   "metadata": {},
   "source": [
    "#### pydantic json validation"
   ]
  },
  {
   "cell_type": "code",
   "execution_count": 59,
   "id": "5f967e09",
   "metadata": {},
   "outputs": [],
   "source": [
    "class Nanocomposites(BaseModel):\n",
    "    Electrode: str\n",
    "    Specific_capacitance: float = Field(alias = \"Specific capacitance (F/g)\")\n",
    "    Electrolyte: str\n",
    "    Current_density: str = Field(alias = \"Current density (A/g)\")\n",
    "        \n",
    "class NanocompositesList(BaseModel):\n",
    "    Nanocomposites: List[Nanocomposites]"
   ]
  },
  {
   "cell_type": "code",
   "execution_count": 63,
   "id": "18eebd75",
   "metadata": {
    "scrolled": true
   },
   "outputs": [
    {
     "data": {
      "text/plain": [
       "NanocompositesList(Nanocomposites=[Nanocomposites(Electrode='FG', Specific_capacitance=276.0, Electrolyte='1 M H2SO4', Current_density='0.1'), Nanocomposites(Electrode='Ti3C2Tx', Specific_capacitance=140.0, Electrolyte='1 M KOH', Current_density='5 mV/s'), Nanocomposites(Electrode='EDA- Ti3C2Tx', Specific_capacitance=486.2, Electrolyte='1 M H2SO4', Current_density='2 mV/s'), Nanocomposites(Electrode='MoS2 NW', Specific_capacitance=122.0, Electrolyte='1 M Na2SO4', Current_density='0.5'), Nanocomposites(Electrode='MoS2 NS', Specific_capacitance=138.0, Electrolyte='1 M Na2SO4', Current_density='1'), Nanocomposites(Electrode='MoS2 NW', Specific_capacitance=142.0, Electrolyte='1 M KCL', Current_density='0.59'), Nanocomposites(Electrode='NiCo-LDHs', Specific_capacitance=1187.2, Electrolyte='6 M KOH', Current_density='1'), Nanocomposites(Electrode='CoSx/Ni-Co LDH', Specific_capacitance=1562.0, Electrolyte='6 M KOH', Current_density='1')])"
      ]
     },
     "execution_count": 63,
     "metadata": {},
     "output_type": "execute_result"
    }
   ],
   "source": [
    "NanocompositesList.parse_raw(davinci_supercapacitor)"
   ]
  },
  {
   "cell_type": "code",
   "execution_count": 64,
   "id": "ce9a1982",
   "metadata": {},
   "outputs": [],
   "source": [
    "with open(\"structured_openai_results/davinci_supercapacitor.json\", 'w') as file:\n",
    "    json.dump(json.loads(davinci_supercapacitor), file)"
   ]
  },
  {
   "cell_type": "code",
   "execution_count": 65,
   "id": "0bf1c35a",
   "metadata": {},
   "outputs": [],
   "source": [
    "with open(\"structured_openai_results/davinci_supercapacitor.json\") as file:\n",
    "    davinci_supercapacitor_json = json.load(file)\n",
    "    file.close()"
   ]
  },
  {
   "cell_type": "code",
   "execution_count": 66,
   "id": "de2b1078",
   "metadata": {},
   "outputs": [
    {
     "name": "stdout",
     "output_type": "stream",
     "text": [
      "{\n",
      "    \"Nanocomposites\": [\n",
      "        {\n",
      "            \"Electrode\": \"FG\",\n",
      "            \"Specific capacitance (F/g)\": 276,\n",
      "            \"Electrolyte\": \"1 M H2SO4\",\n",
      "            \"Current density (A/g)\": \"0.1\"\n",
      "        },\n",
      "        {\n",
      "            \"Electrode\": \"Ti3C2Tx\",\n",
      "            \"Specific capacitance (F/g)\": 140,\n",
      "            \"Electrolyte\": \"1 M KOH\",\n",
      "            \"Current density (A/g)\": \"5 mV/s\"\n",
      "        },\n",
      "        {\n",
      "            \"Electrode\": \"EDA- Ti3C2Tx\",\n",
      "            \"Specific capacitance (F/g)\": 486.2,\n",
      "            \"Electrolyte\": \"1 M H2SO4\",\n",
      "            \"Current density (A/g)\": \"2 mV/s\"\n",
      "        },\n",
      "        {\n",
      "            \"Electrode\": \"MoS2 NW\",\n",
      "            \"Specific capacitance (F/g)\": 122,\n",
      "            \"Electrolyte\": \"1 M Na2SO4\",\n",
      "            \"Current density (A/g)\": \"0.5\"\n",
      "        },\n",
      "        {\n",
      "            \"Electrode\": \"MoS2 NS\",\n",
      "            \"Specific capacitance (F/g)\": 138,\n",
      "            \"Electrolyte\": \"1 M Na2SO4\",\n",
      "            \"Current density (A/g)\": \"1\"\n",
      "        },\n",
      "        {\n",
      "            \"Electrode\": \"MoS2 NW\",\n",
      "            \"Specific capacitance (F/g)\": 142,\n",
      "            \"Electrolyte\": \"1 M KCL\",\n",
      "            \"Current density (A/g)\": \"0.59\"\n",
      "        },\n",
      "        {\n",
      "            \"Electrode\": \"NiCo-LDHs\",\n",
      "            \"Specific capacitance (F/g)\": 1187.2,\n",
      "            \"Electrolyte\": \"6 M KOH\",\n",
      "            \"Current density (A/g)\": \"1\"\n",
      "        },\n",
      "        {\n",
      "            \"Electrode\": \"CoSx/Ni-Co LDH\",\n",
      "            \"Specific capacitance (F/g)\": 1562,\n",
      "            \"Electrolyte\": \"6 M KOH\",\n",
      "            \"Current density (A/g)\": \"1\"\n",
      "        }\n",
      "    ]\n",
      "}\n"
     ]
    }
   ],
   "source": [
    "print(json.dumps(davinci_supercapacitor_json, indent=4, ensure_ascii=False))"
   ]
  }
 ],
 "metadata": {
  "kernelspec": {
   "display_name": "Python [conda env:llms]",
   "language": "python",
   "name": "conda-env-llms-py"
  },
  "language_info": {
   "codemirror_mode": {
    "name": "ipython",
    "version": 3
   },
   "file_extension": ".py",
   "mimetype": "text/x-python",
   "name": "python",
   "nbconvert_exporter": "python",
   "pygments_lexer": "ipython3",
   "version": "3.10.11"
  }
 },
 "nbformat": 4,
 "nbformat_minor": 5
}
