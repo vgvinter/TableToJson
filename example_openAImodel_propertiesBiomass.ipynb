{
 "cells": [
  {
   "cell_type": "markdown",
   "id": "1028f7c5",
   "metadata": {},
   "source": [
    "# \n",
    "# JSON structured data from tables in scientific papers"
   ]
  },
  {
   "cell_type": "markdown",
   "id": "e83d2eb9",
   "metadata": {},
   "source": [
    "## OpenAI model"
   ]
  },
  {
   "cell_type": "code",
   "execution_count": 1,
   "id": "6d0ceb35",
   "metadata": {},
   "outputs": [],
   "source": [
    "import os\n",
    "import json\n",
    "from typing import List\n",
    "\n",
    "from IPython.display import HTML\n",
    "from langchain.llms import OpenAI\n",
    "from pydantic import BaseModel, Field\n",
    "from pydantic.schema import schema\n",
    "\n",
    "os.environ[\"OPENAI_API_KEY\"] = \"your_openai_api_key\""
   ]
  },
  {
   "cell_type": "code",
   "execution_count": 4,
   "id": "3ae319ee",
   "metadata": {
    "scrolled": true
   },
   "outputs": [],
   "source": [
    "model_davinci = OpenAI(\n",
    "    model_name=\"text-davinci-003\",\n",
    "    temperature=0.9,\n",
    "    max_tokens=1500\n",
    "    )"
   ]
  },
  {
   "cell_type": "code",
   "execution_count": 5,
   "id": "854541c9",
   "metadata": {},
   "outputs": [],
   "source": [
    "prompt_template = \"\"\"\n",
    "Generate a JSON object extracting the information from this table in html code:\n",
    "\"\"\""
   ]
  },
  {
   "cell_type": "code",
   "execution_count": 6,
   "id": "ff54516a",
   "metadata": {},
   "outputs": [],
   "source": [
    "def prompt(prompt_template, html_table, json_schema):\n",
    "    prompt_output = \"Generate the JSON result with the following JSON schema and give only the JSON as output: \"\n",
    "    prompt = prompt_template + html_table + prompt_output + str(json_schema)\n",
    "    return prompt"
   ]
  },
  {
   "cell_type": "markdown",
   "id": "cf5047eb",
   "metadata": {},
   "source": [
    "### Example: Biomass properties"
   ]
  },
  {
   "cell_type": "code",
   "execution_count": 7,
   "id": "61d870b6",
   "metadata": {},
   "outputs": [],
   "source": [
    "with open(\"html_tables/html_table_biomass.txt\", 'r') as file:\n",
    "    html_table_biomass = file.read()\n",
    "    file.close()"
   ]
  },
  {
   "cell_type": "code",
   "execution_count": 11,
   "id": "15bf0697",
   "metadata": {
    "scrolled": true
   },
   "outputs": [
    {
     "data": {
      "text/plain": [
       "'<table><thead><tr class=\"valign-top\"><th scope=\"col\" class=\"align-left rowsep-1\" rowspan=\"3\">Sample</th><th scope=\"col\" class=\"align-left\" colspan=\"5\">Ultimate analysis</th><th scope=\"col\" class=\"align-left rowsep-1\" colspan=\"4\">Proximate analysis</th><th scope=\"col\" class=\"align-left\">HHV</th><th scope=\"col\" class=\"align-left\">H/O</th><th scope=\"col\" class=\"align-left\">He density</th></tr><tr class=\"valign-top\"><th scope=\"col\" class=\"align-left rowsep-1\" colspan=\"5\">(wt%, db)</th><th scope=\"col\" class=\"align-left\">(wt%)</th><th scope=\"col\" class=\"align-left rowsep-1\" colspan=\"3\">(wt%, db)</th><th scope=\"col\" class=\"align-left\">(MJ/kg, db)</th><th scope=\"col\" class=\"align-left\">ratio</th><th scope=\"col\" class=\"align-left\">(g/cm<sup>3</sup>)<a class=\"anchor workspace-trigger u-display-inline anchor-paragraph\" href=\"#tblfn2\" name=\"btblfn2\"><span class=\"anchor-text\"><sup>b</sup></span></a></th></tr><tr class=\"rowsep-1 valign-top\"><th scope=\"col\" class=\"align-left\">C</th><th scope=\"col\" class=\"align-left\">N</th><th scope=\"col\" class=\"align-left\">H</th><th scope=\"col\" class=\"align-left\">S</th><th scope=\"col\" class=\"align-left\">O<a class=\"anchor workspace-trigger u-display-inline anchor-paragraph\" href=\"#tblfn1\" name=\"btblfn1\"><span class=\"anchor-text\"><sup>a</sup></span></a></th><th scope=\"col\" class=\"align-left\">MC</th><th scope=\"col\" class=\"align-left\">Ash</th><th scope=\"col\" class=\"align-left\">VM</th><th scope=\"col\" class=\"align-left\">FC<a class=\"anchor workspace-trigger u-display-inline anchor-paragraph\" href=\"#tblfn1\" name=\"btblfn1\"><span class=\"anchor-text\"><sup>a</sup></span></a></th><td scope=\"col\" class=\"align-left\"><span class=\"screen-reader-only\">Empty Cell</span></td><td scope=\"col\" class=\"align-left\"><span class=\"screen-reader-only\">Empty Cell</span></td><td scope=\"col\" class=\"align-left\"><span class=\"screen-reader-only\">Empty Cell</span></td></tr></thead><tbody><tr class=\"valign-top\"><td class=\"align-left\">AS</td><td class=\"align-left\">49.44</td><td class=\"align-left\">0.31</td><td class=\"align-left\">5.85</td><td class=\"align-left\">0.05</td><td class=\"align-left\">42.90</td><td class=\"align-left\">6.5</td><td class=\"align-left\">1.45</td><td class=\"align-left\">78.9</td><td class=\"align-left\">19.6</td><td class=\"align-left\">19.565</td><td class=\"align-left\">2.16</td><td class=\"align-left\">1.252</td></tr><tr class=\"valign-top\"><td class=\"align-left\">CHE</td><td class=\"align-left\">50.22</td><td class=\"align-left\">0.34</td><td class=\"align-left\">5.55</td><td class=\"align-left\">0.01</td><td class=\"align-left\">43.41</td><td class=\"align-left\">8.4</td><td class=\"align-left\">0.47</td><td class=\"align-left\">81.2</td><td class=\"align-left\">18.3</td><td class=\"align-left\">19.109</td><td class=\"align-left\">2.03</td><td class=\"align-left\">1.268</td></tr><tr class=\"valign-top\"><td class=\"align-left\">CHET</td><td class=\"align-left\">51.30</td><td class=\"align-left\">0.40</td><td class=\"align-left\">5.40</td><td class=\"align-left\">0.02</td><td class=\"align-left\">42.59</td><td class=\"align-left\">8.2</td><td class=\"align-left\">0.29</td><td class=\"align-left\">80.0</td><td class=\"align-left\">19.7</td><td class=\"align-left\">19.588</td><td class=\"align-left\">2.01</td><td class=\"align-left\">1.275</td></tr><tr class=\"valign-top\"><td class=\"align-left\">CS</td><td class=\"align-left\">47.96</td><td class=\"align-left\">2.74</td><td class=\"align-left\">5.93</td><td class=\"align-left\">0.21</td><td class=\"align-left\">35.26</td><td class=\"align-left\">6.7</td><td class=\"align-left\">7.90</td><td class=\"align-left\">70.4</td><td class=\"align-left\">21.7</td><td class=\"align-left\">19.067</td><td class=\"align-left\">2.67</td><td class=\"align-left\">1.156</td></tr><tr class=\"valign-top\"><td class=\"align-left\">GP</td><td class=\"align-left\">45.50</td><td class=\"align-left\">1.82</td><td class=\"align-left\">5.05</td><td class=\"align-left\">0.17</td><td class=\"align-left\">34.73</td><td class=\"align-left\">11.6</td><td class=\"align-left\">12.73</td><td class=\"align-left\">67.6</td><td class=\"align-left\">19.7</td><td class=\"align-left\">18.682</td><td class=\"align-left\">2.31</td><td class=\"align-left\">1.210</td></tr><tr class=\"valign-top\"><td class=\"align-left\">OS</td><td class=\"align-left\">51.21</td><td class=\"align-left\">0.29</td><td class=\"align-left\">6.01</td><td class=\"align-left\">0.03</td><td class=\"align-left\">41.88</td><td class=\"align-left\">4.3</td><td class=\"align-left\">0.58</td><td class=\"align-left\">81.5</td><td class=\"align-left\">17.9</td><td class=\"align-left\">20.511</td><td class=\"align-left\">2.28</td><td class=\"align-left\">1.241</td></tr><tr class=\"valign-top\"><td class=\"align-left\">PCL</td><td class=\"align-left\">52.89</td><td class=\"align-left\">0.44</td><td class=\"align-left\">6.06</td><td class=\"align-left\">0.03</td><td class=\"align-left\">39.46</td><td class=\"align-left\">10.1</td><td class=\"align-left\">1.12</td><td class=\"align-left\">76.5</td><td class=\"align-left\">22.4</td><td class=\"align-left\">20.976</td><td class=\"align-left\">2.44</td><td class=\"align-left\">1.237</td>'"
      ]
     },
     "execution_count": 11,
     "metadata": {},
     "output_type": "execute_result"
    }
   ],
   "source": [
    "html_table_biomass[:-1363]"
   ]
  },
  {
   "cell_type": "code",
   "execution_count": 9,
   "id": "d454ea42",
   "metadata": {},
   "outputs": [],
   "source": [
    "with open(\"json_schemas/json_schema_biomass.json\") as file:\n",
    "    json_schema_biomass = json.load(file)\n",
    "    file.close()"
   ]
  },
  {
   "cell_type": "code",
   "execution_count": 10,
   "id": "aa7f8421",
   "metadata": {},
   "outputs": [
    {
     "data": {
      "text/plain": [
       "{'type': 'object',\n",
       " 'properties': {'Biomass type': {'type': 'array',\n",
       "   'items': {'type': 'object',\n",
       "    'properties': {'Sample': {'type': 'string'},\n",
       "     'Ultimate Analysis (wt%, db)': {'type': 'object',\n",
       "      'properties': {'C': {'type': 'number'},\n",
       "       'N': {'type': 'number'},\n",
       "       'H': {'type': 'number'},\n",
       "       'S': {'type': 'number'},\n",
       "       'O': {'type': 'number'}}},\n",
       "     'Proximate Analysis (wt%, db)': {'type': 'object',\n",
       "      'properties': {'MC (wt%)': {'type': 'number'},\n",
       "       'Ash': {'type': 'number'},\n",
       "       'VM': {'type': 'number'},\n",
       "       'FC': {'type': 'number'}}},\n",
       "     'HHV (MJ/kg, db)': {'type': 'number'},\n",
       "     'H/O': {'type': 'number'},\n",
       "     'He density (g/cm3)': {'type': 'number'}}}}}}"
      ]
     },
     "execution_count": 10,
     "metadata": {},
     "output_type": "execute_result"
    }
   ],
   "source": [
    "json_schema_biomass"
   ]
  },
  {
   "cell_type": "code",
   "execution_count": 60,
   "id": "f2f81400",
   "metadata": {},
   "outputs": [],
   "source": [
    "prompt_biomass = prompt(prompt_template, html_table_biomass[:-1363], json_schema_biomass)"
   ]
  },
  {
   "cell_type": "code",
   "execution_count": 61,
   "id": "2126ed26",
   "metadata": {},
   "outputs": [],
   "source": [
    "davinci_biomass = model_davinci(prompt_biomass)"
   ]
  },
  {
   "cell_type": "code",
   "execution_count": 81,
   "id": "b4fbf4e6",
   "metadata": {},
   "outputs": [],
   "source": [
    "with open(\"structured_openai_results/davinci_biomass.json\", 'w') as file:\n",
    "    json.dump(json.loads(davinci_biomass), file)"
   ]
  },
  {
   "cell_type": "code",
   "execution_count": 82,
   "id": "b13295ea",
   "metadata": {},
   "outputs": [],
   "source": [
    "with open(\"structured_openai_results/davinci_biomass.json\") as file:\n",
    "    davinci_biomass_json = json.load(file)\n",
    "    file.close()"
   ]
  },
  {
   "cell_type": "code",
   "execution_count": 84,
   "id": "7e2f7a01",
   "metadata": {
    "scrolled": false
   },
   "outputs": [
    {
     "name": "stdout",
     "output_type": "stream",
     "text": [
      "{\n",
      "    \"Biomass type\": [\n",
      "        {\n",
      "            \"Sample\": \"AS\",\n",
      "            \"Ultimate Analysis (wt%, db)\": {\n",
      "                \"C\": 49.44,\n",
      "                \"N\": 0.31,\n",
      "                \"H\": 5.85,\n",
      "                \"S\": 0.05,\n",
      "                \"O\": 42.9\n",
      "            },\n",
      "            \"Proximate Analysis (wt%, db)\": {\n",
      "                \"MC (wt%)\": 6.5,\n",
      "                \"Ash\": 1.45,\n",
      "                \"VM\": 78.9,\n",
      "                \"FC\": 19.6\n",
      "            },\n",
      "            \"HHV (MJ/kg, db)\": 19.565,\n",
      "            \"H/O\": 2.16,\n",
      "            \"He density (g/cm3)\": 1.252\n",
      "        },\n",
      "        {\n",
      "            \"Sample\": \"CHE\",\n",
      "            \"Ultimate Analysis (wt%, db)\": {\n",
      "                \"C\": 50.22,\n",
      "                \"N\": 0.34,\n",
      "                \"H\": 5.55,\n",
      "                \"S\": 0.01,\n",
      "                \"O\": 43.41\n",
      "            },\n",
      "            \"Proximate Analysis (wt%, db)\": {\n",
      "                \"MC (wt%)\": 8.4,\n",
      "                \"Ash\": 0.47,\n",
      "                \"VM\": 81.2,\n",
      "                \"FC\": 18.3\n",
      "            },\n",
      "            \"HHV (MJ/kg, db)\": 19.109,\n",
      "            \"H/O\": 2.03,\n",
      "            \"He density (g/cm3)\": 1.268\n",
      "        },\n",
      "        {\n",
      "            \"Sample\": \"CHET\",\n",
      "            \"Ultimate Analysis (wt%, db)\": {\n",
      "                \"C\": 51.3,\n",
      "                \"N\": 0.4,\n",
      "                \"H\": 5.4,\n",
      "                \"S\": 0.02,\n",
      "                \"O\": 42.59\n",
      "            },\n",
      "            \"Proximate Analysis (wt%, db)\": {\n",
      "                \"MC (wt%)\": 8.2,\n",
      "                \"Ash\": 0.29,\n",
      "                \"VM\": 80.0,\n",
      "                \"FC\": 19.7\n",
      "            },\n",
      "            \"HHV (MJ/kg, db)\": 19.588,\n",
      "            \"H/O\": 2.01,\n",
      "            \"He density (g/cm3)\": 1.275\n",
      "        },\n",
      "        {\n",
      "            \"Sample\": \"CS\",\n",
      "            \"Ultimate Analysis (wt%, db)\": {\n",
      "                \"C\": 47.96,\n",
      "                \"N\": 2.74,\n",
      "                \"H\": 5.93,\n",
      "                \"S\": 0.21,\n",
      "                \"O\": 35.26\n",
      "            },\n",
      "            \"Proximate Analysis (wt%, db)\": {\n",
      "                \"MC (wt%)\": 6.7,\n",
      "                \"Ash\": 7.9,\n",
      "                \"VM\": 70.4,\n",
      "                \"FC\": 21.7\n",
      "            },\n",
      "            \"HHV (MJ/kg, db)\": 19.067,\n",
      "            \"H/O\": 2.67,\n",
      "            \"He density (g/cm3)\": 1.156\n",
      "        },\n",
      "        {\n",
      "            \"Sample\": \"GP\",\n",
      "            \"Ultimate Analysis (wt%, db)\": {\n",
      "                \"C\": 45.5,\n",
      "                \"N\": 1.82,\n",
      "                \"H\": 5.05,\n",
      "                \"S\": 0.17,\n",
      "                \"O\": 34.73\n",
      "            },\n",
      "            \"Proximate Analysis (wt%, db)\": {\n",
      "                \"MC (wt%)\": 11.6,\n",
      "                \"Ash\": 12.73,\n",
      "                \"VM\": 67.6,\n",
      "                \"FC\": 19.7\n",
      "            },\n",
      "            \"HHV (MJ/kg, db)\": 18.682,\n",
      "            \"H/O\": 2.31,\n",
      "            \"He density (g/cm3)\": 1.21\n",
      "        },\n",
      "        {\n",
      "            \"Sample\": \"OS\",\n",
      "            \"Ultimate Analysis (wt%, db)\": {\n",
      "                \"C\": 51.21,\n",
      "                \"N\": 0.29,\n",
      "                \"H\": 6.01,\n",
      "                \"S\": 0.03,\n",
      "                \"O\": 41.88\n",
      "            },\n",
      "            \"Proximate Analysis (wt%, db)\": {\n",
      "                \"MC (wt%)\": 4.3,\n",
      "                \"Ash\": 0.58,\n",
      "                \"VM\": 81.5,\n",
      "                \"FC\": 17.9\n",
      "            },\n",
      "            \"HHV (MJ/kg, db)\": 20.511,\n",
      "            \"H/O\": 2.28,\n",
      "            \"He density (g/cm3)\": 1.241\n",
      "        },\n",
      "        {\n",
      "            \"Sample\": \"PCL\",\n",
      "            \"Ultimate Analysis (wt%, db)\": {\n",
      "                \"C\": 52.89,\n",
      "                \"N\": 0.44,\n",
      "                \"H\": 6.06,\n",
      "                \"S\": 0.03,\n",
      "                \"O\": 39.46\n",
      "            },\n",
      "            \"Proximate Analysis (wt%, db)\": {\n",
      "                \"MC (wt%)\": 10.1,\n",
      "                \"Ash\": 1.12,\n",
      "                \"VM\": 76.5,\n",
      "                \"FC\": 22.4\n",
      "            },\n",
      "            \"HHV (MJ/kg, db)\": 20.976,\n",
      "            \"H/O\": 2.44,\n",
      "            \"He density (g/cm3)\": 1.237\n",
      "        }\n",
      "    ]\n",
      "}\n"
     ]
    }
   ],
   "source": [
    "print(json.dumps(davinci_biomass_json, indent=4, ensure_ascii=False))"
   ]
  }
 ],
 "metadata": {
  "kernelspec": {
   "display_name": "Python [conda env:llms]",
   "language": "python",
   "name": "conda-env-llms-py"
  },
  "language_info": {
   "codemirror_mode": {
    "name": "ipython",
    "version": 3
   },
   "file_extension": ".py",
   "mimetype": "text/x-python",
   "name": "python",
   "nbconvert_exporter": "python",
   "pygments_lexer": "ipython3",
   "version": "3.10.11"
  }
 },
 "nbformat": 4,
 "nbformat_minor": 5
}
