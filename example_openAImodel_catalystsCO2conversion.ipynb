{
 "cells": [
  {
   "cell_type": "markdown",
   "id": "1028f7c5",
   "metadata": {},
   "source": [
    "# \n",
    "# JSON structured data from tables in scientific papers"
   ]
  },
  {
   "cell_type": "markdown",
   "id": "2dba668f",
   "metadata": {},
   "source": [
    "## OpenAI model"
   ]
  },
  {
   "cell_type": "code",
   "execution_count": 1,
   "id": "6d0ceb35",
   "metadata": {},
   "outputs": [],
   "source": [
    "import os\n",
    "import json\n",
    "from typing import List\n",
    "\n",
    "from IPython.display import HTML\n",
    "from langchain.llms import OpenAI\n",
    "from pydantic import BaseModel, Field\n",
    "from pydantic.schema import schema\n",
    "\n",
    "os.environ[\"OPENAI_API_KEY\"] = \"your_openai_api_key\""
   ]
  },
  {
   "cell_type": "code",
   "execution_count": 4,
   "id": "3ae319ee",
   "metadata": {
    "scrolled": true
   },
   "outputs": [],
   "source": [
    "model_davinci = OpenAI(\n",
    "    model_name=\"text-davinci-003\",\n",
    "    temperature=0.9,\n",
    "    max_tokens=1200\n",
    "    )"
   ]
  },
  {
   "cell_type": "code",
   "execution_count": 5,
   "id": "854541c9",
   "metadata": {},
   "outputs": [],
   "source": [
    "prompt_template = \"\"\"\n",
    "Generate a JSON object extracting the information from this table in html code:\n",
    "\"\"\""
   ]
  },
  {
   "cell_type": "code",
   "execution_count": 6,
   "id": "ff54516a",
   "metadata": {},
   "outputs": [],
   "source": [
    "def prompt(prompt_template, html_table, json_schema):\n",
    "    prompt_output = \"Generate the JSON result with the following JSON schema and give only the JSON as output: \"\n",
    "    prompt = prompt_template + html_table + prompt_output + str(json_schema)\n",
    "    return prompt"
   ]
  },
  {
   "cell_type": "markdown",
   "id": "5084ec0c",
   "metadata": {},
   "source": [
    "### Example: Catalysts for CO<sub>2</sub>  Fischer–Tropsch conversion to liquid fuels"
   ]
  },
  {
   "cell_type": "code",
   "execution_count": 8,
   "id": "c50bc156",
   "metadata": {},
   "outputs": [],
   "source": [
    "with open(\"html_tables/html_table_catalystCO2.txt\", 'r') as file:\n",
    "    html_table_catalystCO2 = file.read()\n",
    "    file.close()"
   ]
  },
  {
   "cell_type": "code",
   "execution_count": 9,
   "id": "e52fafac",
   "metadata": {
    "scrolled": true
   },
   "outputs": [
    {
     "data": {
      "text/plain": [
       "'<table class=\"table \"><colgroup><col align=\"left\"><col align=\"left\"><col align=\"left\"><col align=\"char\" char=\".\"><col align=\"char\" char=\".\"><col align=\"char\" char=\".\"><col align=\"char\" char=\".\"><col align=\"char\" char=\".\"><col align=\"char\" char=\".\"><col align=\"char\" char=\".\"><col align=\"left\"></colgroup><thead><tr valign=\"top\" class=\"colsep0\"><th class=\"colsep0 rowsep0\" scope=\"col\" align=\"center\">catalyst</th><th class=\"colsep0 rowsep0\" scope=\"col\" align=\"center\">synthesis method</th><th class=\"colsep0 rowsep0\" scope=\"col\" align=\"center\">promoter incorporation</th><th class=\"colsep0 rowsep0\" scope=\"col\" align=\"center\" char=\".\"><i>X</i>&nbsp;CO<sub>2</sub> (%)</th><th class=\"colsep0 rowsep0\" scope=\"col\" align=\"center\" char=\".\"><i>S</i>&nbsp;CO (%)</th><th class=\"colsep0 rowsep0\" scope=\"col\" align=\"center\" char=\".\"><i>S</i>&nbsp;C<sub>1</sub> (%)</th><th class=\"colsep0 rowsep0\" scope=\"col\" align=\"center\" char=\".\"><i>S</i>&nbsp;C<sub>2</sub>–C<sub>4</sub> (%)</th><th class=\"colsep0 rowsep0\" scope=\"col\" align=\"center\" char=\".\"><i>S</i>&nbsp;C<sub>5+</sub> (%)</th><th class=\"colsep0 rowsep0\" scope=\"col\" align=\"center\" char=\".\">temperature (°C)</th><th class=\"colsep0 rowsep0\" scope=\"col\" align=\"center\" char=\".\"><i>P</i>&nbsp;(MPa)</th><th class=\"colsep0 rowsep0\" scope=\"col\" align=\"center\">reference</th></tr></thead><tbody><tr valign=\"top\" class=\"colsep0\"><td class=\"colsep0 rowsep0\" scope=\"row\" align=\"left\">Fe–Cu–K</td><td class=\"colsep0 rowsep0\" align=\"left\">triple incipient wetness impregnation</td><td class=\"colsep0 rowsep0\" align=\"left\">impregnation</td><td class=\"colsep0 rowsep0\" align=\"char\" char=\".\">15</td><td class=\"colsep0 rowsep0\" align=\"char\" char=\".\">50</td><td class=\"colsep0 rowsep0\" align=\"char\" char=\".\">11.00</td><td class=\"colsep0 rowsep0\" align=\"char\" char=\".\">21.00</td><td class=\"colsep0 rowsep0\" align=\"char\" char=\".\">18.00</td><td class=\"colsep0 rowsep0\" align=\"char\" char=\".\">350</td><td class=\"colsep0 rowsep0\" align=\"char\" char=\".\">8.6</td><td class=\"colsep0 rowsep0\" align=\"left\"> <a onclick=\"showRef(event, \\'ref64\\'); return false;\" href=\"javascript:void(0);\" class=\"ref ref64\" aria-label=\"reference 64\">(64)</a></td></tr><tr valign=\"top\" class=\"colsep0\"><td class=\"colsep0 rowsep0\" scope=\"row\" align=\"left\">Fe–PYL</td><td class=\"colsep0 rowsep0\" align=\"left\">hydrothermal</td><td class=\"colsep0 rowsep0\" align=\"left\">hydrothermal</td><td class=\"colsep0 rowsep0\" align=\"char\" char=\".\">21.6</td><td class=\"colsep0 rowsep0\" align=\"char\" char=\".\">29.2</td><td class=\"colsep0 rowsep0\" align=\"char\" char=\".\">36.80</td><td class=\"colsep0 rowsep0\" align=\"char\" char=\".\">46.00</td><td class=\"colsep0 rowsep0\" align=\"char\" char=\".\">17.20</td><td class=\"colsep0 rowsep0\" align=\"char\" char=\".\">300</td><td class=\"colsep0 rowsep0\" align=\"char\" char=\".\">1</td><td class=\"colsep0 rowsep0\" align=\"left\"> <a onclick=\"showRef(event, \\'ref65\\'); return false;\" href=\"javascript:void(0);\" class=\"ref ref65\" aria-label=\"reference 65\">(65)</a></td></tr><tr valign=\"top\" class=\"colsep0\"><td class=\"colsep0 rowsep0\" scope=\"row\" align=\"left\">Fe–K</td><td class=\"colsep0 rowsep0\" align=\"left\">templated synthesis</td><td class=\"colsep0 rowsep0\" align=\"left\">ultrasonic-assisted melt infiltration</td><td class=\"colsep0 rowsep0\" align=\"char\" char=\".\">50.6</td><td class=\"colsep0 rowsep0\" align=\"char\" char=\".\">8.2</td><td class=\"colsep0 rowsep0\" align=\"char\" char=\".\">15.42</td><td class=\"colsep0 rowsep0\" align=\"char\" char=\".\">31.95</td><td class=\"colsep0 rowsep0\" align=\"char\" char=\".\">44.52</td><td class=\"colsep0 rowsep0\" align=\"char\" char=\".\">300</td><td class=\"colsep0 rowsep0\" align=\"char\" char=\".\">2.5</td><td class=\"colsep0 rowsep0\" align=\"left\"> <a onclick=\"showRef(event, \\'ref66\\'); return false;\" href=\"javascript:void(0);\" class=\"ref ref66\" aria-label=\"reference 66\">(66)</a></td></tr><tr valign=\"top\" class=\"colsep0\"><td class=\"colsep0 rowsep0\" scope=\"row\" align=\"left\">MnFe–N<sub>2</sub></td><td class=\"colsep0 rowsep0\" align=\"left\">dry impregnation</td><td class=\"colsep0 rowsep0\" align=\"left\">impregnation</td><td class=\"colsep0 rowsep0\" align=\"char\" char=\".\">25.2</td><td class=\"colsep0 rowsep0\" align=\"char\" char=\".\">35.6</td><td class=\"colsep0 rowsep0\" align=\"char\" char=\".\">39.8</td><td class=\"colsep0 rowsep0\" align=\"char\" char=\".\">21.92</td><td class=\"colsep0 rowsep0\" align=\"char\" char=\".\">1.00</td><td class=\"colsep0 rowsep0\" align=\"char\" char=\".\">360</td><td class=\"colsep0 rowsep0\" align=\"char\" char=\".\">2.5</td><td class=\"colsep0 rowsep0\" align=\"left\"> <a onclick=\"showRef(event, \\'ref67\\'); return false;\" href=\"javascript:void(0);\" class=\"ref ref67\" aria-label=\"reference 67\">(67)</a></td></tr><tr valign=\"top\" class=\"colsep0\"><td class=\"colsep0 rowsep0\" scope=\"row\" align=\"left\">Fe<sub>2</sub>O<sub>3</sub></td><td class=\"colsep0 rowsep0\" align=\"left\">precipitation</td><td class=\"colsep0 rowsep0\" align=\"left\">cellulose templated</td><td class=\"colsep0 rowsep0\" align=\"char\" char=\".\">40</td><td class=\"colsep0 rowsep0\" align=\"char\" char=\".\">15</td><td class=\"colsep0 rowsep0\" align=\"char\" char=\".\">11.9</td><td class=\"colsep0 rowsep0\" align=\"char\" char=\".\">36.98</td><td class=\"colsep0 rowsep0\" align=\"char\" char=\".\">36.04</td><td class=\"colsep0 rowsep0\" align=\"char\" char=\".\">300</td><td class=\"colsep0 rowsep0\" align=\"char\" char=\".\">1.5</td><td class=\"colsep0 rowsep0\" align=\"left\"> <a onclick=\"showRef(event, \\'ref68\\'); return false;\" href=\"javascript:void(0);\" class=\"ref ref68\" aria-label=\"reference 68\">(68)</a></td></tr></tbody></table>'"
      ]
     },
     "execution_count": 9,
     "metadata": {},
     "output_type": "execute_result"
    }
   ],
   "source": [
    "html_table_catalystCO2"
   ]
  },
  {
   "cell_type": "code",
   "execution_count": 12,
   "id": "34e4d961",
   "metadata": {},
   "outputs": [],
   "source": [
    "with open(\"json_schemas/json_schema_catalystCO2.json\") as file:\n",
    "    json_schema_catalystCO2 = json.load(file)\n",
    "    file.close()"
   ]
  },
  {
   "cell_type": "code",
   "execution_count": 13,
   "id": "8c74e20b",
   "metadata": {},
   "outputs": [
    {
     "data": {
      "text/plain": [
       "{'type': 'object',\n",
       " 'properties': {'Carbon-supported catalysts CO2': {'type': 'array',\n",
       "   'items': {'type': 'object',\n",
       "    'properties': {'Catalyst': {'type': 'string'},\n",
       "     'Synthesis method': {'type': 'string'},\n",
       "     'Promoter incorporation': {'type': 'string'},\n",
       "     'X CO2 (%)': {'type': 'number'},\n",
       "     'S CO (%)': {'type': 'number'},\n",
       "     'S C1 (%)': {'type': 'number'},\n",
       "     'S C2–C4 (%)': {'type': 'number'},\n",
       "     'S C5+ (%)': {'type': 'number'},\n",
       "     'Temperature (°C)': {'type': 'number'},\n",
       "     'P (MPa)': {'type': 'number'}}}}}}"
      ]
     },
     "execution_count": 13,
     "metadata": {},
     "output_type": "execute_result"
    }
   ],
   "source": [
    "json_schema_catalystCO2"
   ]
  },
  {
   "cell_type": "code",
   "execution_count": 14,
   "id": "b92433d0",
   "metadata": {},
   "outputs": [],
   "source": [
    "prompt_catalystCO2 = prompt(prompt_template, html_table_catalystCO2, json_schema_catalystCO2)"
   ]
  },
  {
   "cell_type": "code",
   "execution_count": 15,
   "id": "8f3912e1",
   "metadata": {},
   "outputs": [],
   "source": [
    "davinci_catalystCO2 = model_davinci(prompt_catalystCO2)"
   ]
  },
  {
   "cell_type": "code",
   "execution_count": 21,
   "id": "4bc8c190",
   "metadata": {},
   "outputs": [],
   "source": [
    "with open(\"structured_openai_results/davinci_catalystCO2.json\", 'w') as file:\n",
    "    json.dump(json.loads(davinci_catalystCO2), file)"
   ]
  },
  {
   "cell_type": "code",
   "execution_count": 22,
   "id": "cfa792b9",
   "metadata": {},
   "outputs": [],
   "source": [
    "with open(\"structured_openai_results/davinci_catalystCO2.json\") as file:\n",
    "    davinci_catalystCO2_json = json.load(file)\n",
    "    file.close()"
   ]
  },
  {
   "cell_type": "code",
   "execution_count": 23,
   "id": "b95c9767",
   "metadata": {},
   "outputs": [
    {
     "name": "stdout",
     "output_type": "stream",
     "text": [
      "[\n",
      "    {\n",
      "        \"Catalyst\": \"Fe–Cu–K\",\n",
      "        \"Synthesis method\": \"triple incipient wetness impregnation\",\n",
      "        \"Promoter incorporation\": \"impregnation\",\n",
      "        \"X CO2 (%)\": 15,\n",
      "        \"S CO (%)\": 50,\n",
      "        \"S C1 (%)\": 11.0,\n",
      "        \"S C2–C4 (%)\": 21.0,\n",
      "        \"S C5+ (%)\": 18.0,\n",
      "        \"Temperature (°C)\": 350,\n",
      "        \"P (MPa)\": 8.6\n",
      "    },\n",
      "    {\n",
      "        \"Catalyst\": \"Fe–PYL\",\n",
      "        \"Synthesis method\": \"hydrothermal\",\n",
      "        \"Promoter incorporation\": \"hydrothermal\",\n",
      "        \"X CO2 (%)\": 21.6,\n",
      "        \"S CO (%)\": 29.2,\n",
      "        \"S C1 (%)\": 36.8,\n",
      "        \"S C2–C4 (%)\": 46.0,\n",
      "        \"S C5+ (%)\": 17.2,\n",
      "        \"Temperature (°C)\": 300,\n",
      "        \"P (MPa)\": 1\n",
      "    },\n",
      "    {\n",
      "        \"Catalyst\": \"Fe–K\",\n",
      "        \"Synthesis method\": \"templated synthesis\",\n",
      "        \"Promoter incorporation\": \"ultrasonic-assisted melt infiltration\",\n",
      "        \"X CO2 (%)\": 50.6,\n",
      "        \"S CO (%)\": 8.2,\n",
      "        \"S C1 (%)\": 15.42,\n",
      "        \"S C2–C4 (%)\": 31.95,\n",
      "        \"S C5+ (%)\": 44.52,\n",
      "        \"Temperature (°C)\": 300,\n",
      "        \"P (MPa)\": 2.5\n",
      "    },\n",
      "    {\n",
      "        \"Catalyst\": \"MnFe–N2\",\n",
      "        \"Synthesis method\": \"dry impregnation\",\n",
      "        \"Promoter incorporation\": \"impregnation\",\n",
      "        \"X CO2 (%)\": 25.2,\n",
      "        \"S CO (%)\": 35.6,\n",
      "        \"S C1 (%)\": 39.8,\n",
      "        \"S C2–C4 (%)\": 21.92,\n",
      "        \"S C5+ (%)\": 1.0,\n",
      "        \"Temperature (°C)\": 360,\n",
      "        \"P (MPa)\": 2.5\n",
      "    },\n",
      "    {\n",
      "        \"Catalyst\": \"Fe2O3\",\n",
      "        \"Synthesis method\": \"precipitation\",\n",
      "        \"Promoter incorporation\": \"cellulose templated\",\n",
      "        \"X CO2 (%)\": 40,\n",
      "        \"S CO (%)\": 15,\n",
      "        \"S C1 (%)\": 11.9,\n",
      "        \"S C2–C4 (%)\": 36.98,\n",
      "        \"S C5+ (%)\": 36.04,\n",
      "        \"Temperature (°C)\": 300,\n",
      "        \"P (MPa)\": 1.5\n",
      "    }\n",
      "]\n"
     ]
    }
   ],
   "source": [
    "print(json.dumps(davinci_catalystCO2_json, indent=4, ensure_ascii=False))"
   ]
  },
  {
   "cell_type": "markdown",
   "id": "7be67b60",
   "metadata": {},
   "source": [
    "#### change object name in the schema"
   ]
  },
  {
   "cell_type": "code",
   "execution_count": 25,
   "id": "ba11947f",
   "metadata": {},
   "outputs": [],
   "source": [
    "json_schema_catalystCO2_new_schema = {\n",
    "    \"type\": \"object\",\n",
    "    \"properties\": {\n",
    "        \"Catalysts\": {\n",
    "            \"type\": \"array\",\n",
    "            \"items\": {\n",
    "                \"type\": \"object\",\n",
    "                \"properties\": {\n",
    "                    \"Catalyst\": {\"type\": \"string\"},\n",
    "                    \"Synthesis method\": {\"type\": \"string\"},\n",
    "                    \"Promoter incorporation\": {\"type\": \"string\"},\n",
    "                    \"X CO2 (%)\": {\"type\": \"number\"},\n",
    "                    \"S CO (%)\": {\"type\": \"number\"},\n",
    "                    \"S C1 (%)\": {\"type\": \"number\"},\n",
    "                    \"S C2–C4 (%)\": {\"type\": \"number\"},\n",
    "                    \"S C5+ (%)\": {\"type\": \"number\"},\n",
    "                    \"Temperature (°C)\": {\"type\": \"number\"},\n",
    "                    \"P (MPa)\": {\"type\": \"number\"},\n",
    "                },\n",
    "            },\n",
    "        },\n",
    "    },\n",
    "}"
   ]
  },
  {
   "cell_type": "code",
   "execution_count": 26,
   "id": "04cb2cbf",
   "metadata": {},
   "outputs": [],
   "source": [
    "prompt_catalystCO2 = prompt(prompt_template, html_table_catalystCO2, json_schema_catalystCO2_new_schema)"
   ]
  },
  {
   "cell_type": "code",
   "execution_count": 27,
   "id": "5265111a",
   "metadata": {},
   "outputs": [],
   "source": [
    "davinci_catalystCO2_new_schema = model_davinci(prompt_catalystCO2)"
   ]
  },
  {
   "cell_type": "code",
   "execution_count": 30,
   "id": "44acbf1f",
   "metadata": {},
   "outputs": [],
   "source": [
    "with open(\"structured_openai_results/davinci_catalystCO2_new_schema.json\", 'w') as file:\n",
    "    json.dump(json.loads(davinci_catalystCO2_new_schema), file)"
   ]
  },
  {
   "cell_type": "code",
   "execution_count": 31,
   "id": "90ff2b1d",
   "metadata": {},
   "outputs": [],
   "source": [
    "with open(\"structured_openai_results/davinci_catalystCO2_new_schema.json\") as file:\n",
    "    davinci_catalystCO2_new_schema_json = json.load(file)\n",
    "    file.close()"
   ]
  },
  {
   "cell_type": "code",
   "execution_count": 32,
   "id": "a966f8f4",
   "metadata": {},
   "outputs": [
    {
     "name": "stdout",
     "output_type": "stream",
     "text": [
      "{\n",
      "    \"Catalysts\": [\n",
      "        {\n",
      "            \"Catalyst\": \"Fe–Cu–K\",\n",
      "            \"Synthesis method\": \"triple incipient wetness impregnation\",\n",
      "            \"Promoter incorporation\": \"impregnation\",\n",
      "            \"X CO2 (%)\": 15,\n",
      "            \"S CO (%)\": 50,\n",
      "            \"S C1 (%)\": 11.0,\n",
      "            \"S C2–C4 (%)\": 21.0,\n",
      "            \"S C5+ (%)\": 18.0,\n",
      "            \"Temperature (°C)\": 350,\n",
      "            \"P (MPa)\": 8.6\n",
      "        },\n",
      "        {\n",
      "            \"Catalyst\": \"Fe–PYL\",\n",
      "            \"Synthesis method\": \"hydrothermal\",\n",
      "            \"Promoter incorporation\": \"hydrothermal\",\n",
      "            \"X CO2 (%)\": 21.6,\n",
      "            \"S CO (%)\": 29.2,\n",
      "            \"S C1 (%)\": 36.8,\n",
      "            \"S C2–C4 (%)\": 46.0,\n",
      "            \"S C5+ (%)\": 17.2,\n",
      "            \"Temperature (°C)\": 300,\n",
      "            \"P (MPa)\": 1\n",
      "        },\n",
      "        {\n",
      "            \"Catalyst\": \"Fe–K\",\n",
      "            \"Synthesis method\": \"templated synthesis\",\n",
      "            \"Promoter incorporation\": \"ultrasonic-assisted melt infiltration\",\n",
      "            \"X CO2 (%)\": 50.6,\n",
      "            \"S CO (%)\": 8.2,\n",
      "            \"S C1 (%)\": 15.42,\n",
      "            \"S C2–C4 (%)\": 31.95,\n",
      "            \"S C5+ (%)\": 44.52,\n",
      "            \"Temperature (°C)\": 300,\n",
      "            \"P (MPa)\": 2.5\n",
      "        },\n",
      "        {\n",
      "            \"Catalyst\": \"MnFe–N2\",\n",
      "            \"Synthesis method\": \"dry impregnation\",\n",
      "            \"Promoter incorporation\": \"impregnation\",\n",
      "            \"X CO2 (%)\": 25.2,\n",
      "            \"S CO (%)\": 35.6,\n",
      "            \"S C1 (%)\": 39.8,\n",
      "            \"S C2–C4 (%)\": 21.92,\n",
      "            \"S C5+ (%)\": 1.0,\n",
      "            \"Temperature (°C)\": 360,\n",
      "            \"P (MPa)\": 2.5\n",
      "        },\n",
      "        {\n",
      "            \"Catalyst\": \"Fe2O3\",\n",
      "            \"Synthesis method\": \"precipitation\",\n",
      "            \"Promoter incorporation\": \"cellulose templated\",\n",
      "            \"X CO2 (%)\": 40,\n",
      "            \"S CO (%)\": 15,\n",
      "            \"S C1 (%)\": 11.9,\n",
      "            \"S C2–C4 (%)\": 36.98,\n",
      "            \"S C5+ (%)\": 36.04,\n",
      "            \"Temperature (°C)\": 300,\n",
      "            \"P (MPa)\": 1.5\n",
      "        }\n",
      "    ]\n",
      "}\n"
     ]
    }
   ],
   "source": [
    "print(json.dumps(davinci_catalystCO2_new_schema_json, indent=4, ensure_ascii=False))"
   ]
  }
 ],
 "metadata": {
  "kernelspec": {
   "display_name": "Python [conda env:llms]",
   "language": "python",
   "name": "conda-env-llms-py"
  },
  "language_info": {
   "codemirror_mode": {
    "name": "ipython",
    "version": 3
   },
   "file_extension": ".py",
   "mimetype": "text/x-python",
   "name": "python",
   "nbconvert_exporter": "python",
   "pygments_lexer": "ipython3",
   "version": "3.10.11"
  }
 },
 "nbformat": 4,
 "nbformat_minor": 5
}
