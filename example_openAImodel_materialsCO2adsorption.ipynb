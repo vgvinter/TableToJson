{
 "cells": [
  {
   "cell_type": "markdown",
   "id": "1028f7c5",
   "metadata": {},
   "source": [
    "# \n",
    "# JSON structured data from tables in scientific papers"
   ]
  },
  {
   "cell_type": "markdown",
   "id": "73a6e603",
   "metadata": {},
   "source": [
    "## OpenAI model"
   ]
  },
  {
   "cell_type": "code",
   "execution_count": 1,
   "id": "6d0ceb35",
   "metadata": {},
   "outputs": [],
   "source": [
    "import os\n",
    "import json\n",
    "from typing import List\n",
    "\n",
    "from IPython.display import HTML\n",
    "from langchain.llms import OpenAI\n",
    "from pydantic import BaseModel, Field\n",
    "from pydantic.schema import schema\n",
    "\n",
    "os.environ[\"OPENAI_API_KEY\"] = \"your_openai_api_key\""
   ]
  },
  {
   "cell_type": "code",
   "execution_count": 4,
   "id": "3ae319ee",
   "metadata": {
    "scrolled": true
   },
   "outputs": [],
   "source": [
    "model_davinci = OpenAI(\n",
    "    model_name=\"text-davinci-003\",\n",
    "    temperature=0.9,\n",
    "    max_tokens=1200\n",
    "    )"
   ]
  },
  {
   "cell_type": "code",
   "execution_count": 5,
   "id": "854541c9",
   "metadata": {},
   "outputs": [],
   "source": [
    "prompt_template = \"\"\"\n",
    "Generate a JSON object extracting the information from this table in html code:\n",
    "\"\"\""
   ]
  },
  {
   "cell_type": "code",
   "execution_count": 6,
   "id": "ff54516a",
   "metadata": {},
   "outputs": [],
   "source": [
    "def prompt(prompt_template, html_table, json_schema):\n",
    "    prompt_output = \"Generate the JSON result with the following JSON schema and give only the JSON as output: \"\n",
    "    prompt = prompt_template + html_table + prompt_output + str(json_schema)\n",
    "    return prompt"
   ]
  },
  {
   "cell_type": "markdown",
   "id": "f7c9ce2e",
   "metadata": {},
   "source": [
    "### Example: Properties of activated carbons for CO<sub>2</sub> adsorption"
   ]
  },
  {
   "cell_type": "code",
   "execution_count": 7,
   "id": "db60865e",
   "metadata": {},
   "outputs": [],
   "source": [
    "with open(\"html_tables/html_table_carbonsCO2ads.txt\", 'r') as file:\n",
    "    html_table_carbonsCO2ads = file.read()\n",
    "    file.close()"
   ]
  },
  {
   "cell_type": "code",
   "execution_count": 8,
   "id": "d957a3fa",
   "metadata": {
    "scrolled": true
   },
   "outputs": [
    {
     "data": {
      "text/plain": [
       "'<table><thead><tr class=\"rowsep-1\"><th scope=\"col\">Feedstock</th><th scope=\"col\">Temperature (<sup>∘</sup>C)</th><th scope=\"col\">Surface area (m<sup>2</sup>/g)</th><th scope=\"col\">Total Pore Volume (cm<sup>3</sup>/g)</th><th scope=\"col\">CO<sub>2</sub> capacity (mg/g)</th><th scope=\"col\">Ref.</th></tr></thead><tbody><tr><th scope=\"row\">Rambutan peel</th><td class=\"align-char\">500</td><td class=\"align-char\">7.80</td><td>0.011</td><td class=\"align-char\">27.83</td><td><a class=\"anchor workspace-trigger u-display-inline anchor-paragraph\" href=\"#bib100\" name=\"bbib100\"><span class=\"anchor-text\">[100]</span></a></td></tr><tr><th scope=\"row\">Rambutan peel</th><td class=\"align-char\">700</td><td class=\"align-char\">175.84</td><td>0.111</td><td class=\"align-char\">56.61</td><td><a class=\"anchor workspace-trigger u-display-inline anchor-paragraph\" href=\"#bib100\" name=\"bbib100\"><span class=\"anchor-text\">[100]</span></a></td></tr><tr><th scope=\"row\">Rambutan peel</th><td class=\"align-char\">900</td><td class=\"align-char\">569.64</td><td>0.313</td><td class=\"align-char\">68.74</td><td><a class=\"anchor workspace-trigger u-display-inline anchor-paragraph\" href=\"#bib100\" name=\"bbib100\"><span class=\"anchor-text\">[100]</span></a></td></tr><tr><th scope=\"row\">Hickory wood</th><td class=\"align-char\">300</td><td class=\"align-char\">0.10</td><td>NA</td><td class=\"align-char\">34.48</td><td><a class=\"anchor workspace-trigger u-display-inline anchor-paragraph\" href=\"#bib99\" name=\"bbib99\"><span class=\"anchor-text\">[99]</span></a></td></tr><tr><th scope=\"row\">Hickory wood</th><td class=\"align-char\">450</td><td class=\"align-char\">12.90</td><td>NA</td><td class=\"align-char\">44.96</td><td><a class=\"anchor workspace-trigger u-display-inline anchor-paragraph\" href=\"#bib99\" name=\"bbib99\"><span class=\"anchor-text\">[99]</span></a></td></tr><tr><th scope=\"row\">Hickory wood</th><td class=\"align-char\">600</td><td class=\"align-char\">401.00</td><td>NA</td><td class=\"align-char\">61.00</td><td><a class=\"anchor workspace-trigger u-display-inline anchor-paragraph\" href=\"#bib99\" name=\"bbib99\"><span class=\"anchor-text\">[99]</span></a></td></tr><tr><th scope=\"row\">Sugarcane baggasse</th><td class=\"align-char\">300</td><td class=\"align-char\">5.20</td><td>NA</td><td class=\"align-char\">38.72</td><td><a class=\"anchor workspace-trigger u-display-inline anchor-paragraph\" href=\"#bib99\" name=\"bbib99\"><span class=\"anchor-text\">[99]</span></a></td></tr><tr><th scope=\"row\">Sugarcane baggasse</th><td class=\"align-char\">450</td><td class=\"align-char\">13.60</td><td>NA</td><td class=\"align-char\">53.83</td><td><a class=\"anchor workspace-trigger u-display-inline anchor-paragraph\" href=\"#bib99\" name=\"bbib99\"><span class=\"anchor-text\">[99]</span></a></td></tr><tr><th scope=\"row\">Sugarcane baggasse</th><td class=\"align-char\">600</td><td class=\"align-char\">388.30</td><td>NA</td><td class=\"align-char\">73.55</td><td><a class=\"anchor workspace-trigger u-display-inline anchor-paragraph\" href=\"#bib99\" name=\"bbib99\"><span class=\"anchor-text\">[99]</span></a></td></tr><tr><th scope=\"row\">Perilla leaf</th><td class=\"align-char\">700</td><td class=\"align-char\">473.4</td><td>0.1</td><td class=\"align-char\">101.728</td><td><a class=\"anchor workspace-trigger u-display-inline anchor-paragraph\" href=\"#bib103\" name=\"bbib103\"><span class=\"anchor-text\">[103]</span></a></td></tr><tr><th scope=\"row\">Soybean stover</th><td class=\"align-char\">700</td><td class=\"align-char\">420.3</td><td>0.2</td><td class=\"align-char\">31.108</td><td><a class=\"anchor workspace-trigger u-display-inline anchor-paragraph\" href=\"#bib103\" name=\"bbib103\"><span class=\"anchor-text\">[103]</span></a></td></tr><tr><th scope=\"row\">Korean oak</th><td class=\"align-char\">400</td><td class=\"align-char\">270.8</td><td>0.1</td><td class=\"align-char\">26.268</td><td><a class=\"anchor workspace-trigger u-display-inline anchor-paragraph\" href=\"#bib103\" name=\"bbib103\"><span class=\"anchor-text\">[103]</span></a></td></tr><tr><th scope=\"row\">Japanese oak</th><td class=\"align-char\">500</td><td class=\"align-char\">475.6</td><td>0.2</td><td class=\"align-char\">16.676</td><td><a class=\"anchor workspace-trigger u-display-inline anchor-paragraph\" href=\"#bib103\" name=\"bbib103\"><span class=\"anchor-text\">[103]</span></a></td></tr><tr><th scope=\"row\">Spent coffee grounds</th><td class=\"align-char\">400</td><td class=\"align-char\">539</td><td>0.32</td><td class=\"align-char\">123.2</td><td><a class=\"anchor workspace-trigger u-display-inline anchor-paragraph\" href=\"#bib93\" name=\"bbib93\"><span class=\"anchor-text\">[93]</span></a></td></tr><tr><th scope=\"row\">Spent coffee grounds</th><td class=\"align-char\">500</td><td class=\"align-char\">311</td><td>0.24</td><td class=\"align-char\">57.2</td><td><a class=\"anchor workspace-trigger u-display-inline anchor-paragraph\" href=\"#bib93\" name=\"bbib93\"><span class=\"anchor-text\">[93]</span></a></td></tr><tr><th scope=\"row\">Spent coffee grounds</th><td class=\"align-char\">600</td><td class=\"align-char\">179</td><td>0.13</td><td class=\"align-char\">30.8</td><td><a class=\"anchor workspace-trigger u-display-inline anchor-paragraph\" href=\"#bib93\" name=\"bbib93\"><span class=\"anchor-text\">[93]</span></a></td></tr><tr><th scope=\"row\">Pine sawdust</th><td class=\"align-char\">550</td><td class=\"align-char\">315.59</td><td>0.17</td><td class=\"align-char\">29.48</td><td><a class=\"anchor workspace-trigger u-display-inline anchor-paragraph\" href=\"#bib104\" name=\"bbib104\"><span class=\"anchor-text\">[104]</span></a></td></tr><tr><th scope=\"row\">Pig manure</th><td class=\"align-char\">500</td><td class=\"align-char\">31.57</td><td>0.044</td><td class=\"align-char\">23.5</td><td><a class=\"anchor workspace-trigger u-display-inline anchor-paragraph\" href=\"#bib105\" name=\"bbib105\"><span class=\"anchor-text\">[105]</span></a></td></tr><tr><th scope=\"row\">Wheat straw</th><td class=\"align-char\">500</td><td class=\"align-char\">20.20</td><td>0.041</td><td class=\"align-char\">34.4</td><td><a class=\"anchor workspace-trigger u-display-inline anchor-paragraph\" href=\"#bib105\" name=\"bbib105\"><span class=\"anchor-text\">[105]</span></a></td></tr><tr><th scope=\"row\">Sewage sludge</th><td class=\"align-char\">500</td><td class=\"align-char\">10.12</td><td>0.022</td><td class=\"align-char\">18.2</td><td><a class=\"anchor workspace-trigger u-display-inline anchor-paragraph\" href=\"#bib105\" name=\"bbib105\"><span class=\"anchor-text\">[105]</span></a></td></tr><tr><th scope=\"row\">Softwood</th><td class=\"align-char\">500</td><td class=\"align-char\">95.58</td><td>NA</td><td class=\"align-char\">105.6</td><td><a class=\"anchor workspace-trigger u-display-inline anchor-paragraph\" href=\"#bib106\" name=\"bbib106\"><span class=\"anchor-text\">[106]</span></a></td></tr><tr><th scope=\"row\">Sargassum seaweed</th><td class=\"align-char\">400</td><td class=\"align-char\">5.8</td><td>0.03</td><td class=\"align-char\">16.28</td><td><a class=\"anchor workspace-trigger u-display-inline anchor-paragraph\" href=\"#bib41\" name=\"bbib41\"><span class=\"anchor-text\">[41]</span></a><sup>a</sup></td></tr><tr><th scope=\"row\">Sargassum seaweed</th><td class=\"align-char\">600</td><td class=\"align-char\">220.0</td><td>0.17</td><td class=\"align-char\">38.28</td><td><a class=\"anchor workspace-trigger u-display-inline anchor-paragraph\" href=\"#bib41\" name=\"bbib41\"><span class=\"anchor-text\">[41]</span></a><sup>a</sup></td></tr><tr><th scope=\"row\">Sargassum seaweed</th><td class=\"align-char\">800</td><td class=\"align-char\">291.8</td><td>0.24</td><td class=\"align-char\">46.2</td><td><a class=\"anchor workspace-trigger u-display-inline anchor-paragraph\" href=\"#bib41\" name=\"bbib41\"><span class=\"anchor-text\">[41]</span></a><sup>a</sup></td></tr><tr><th scope=\"row\">Enteromorpha seaweed</th><td class=\"align-char\">400</td><td class=\"align-char\">12</td><td>0.06</td><td class=\"align-char\">16.28</td><td><a class=\"anchor workspace-trigger u-display-inline anchor-paragraph\" href=\"#bib41\" name=\"bbib41\"><span class=\"anchor-text\">[41]</span></a><sup>a</sup></td></tr><tr><th scope=\"row\">Enteromorpha seaweed</th><td class=\"align-char\">600</td><td class=\"align-char\">30.6</td><td>0.09</td><td class=\"align-char\">21.56</td><td><a class=\"anchor workspace-trigger u-display-inline anchor-paragraph\" href=\"#bib41\" name=\"bbib41\"><span class=\"anchor-text\">[41]</span></a><sup>a</sup></td></tr><tr><th scope=\"row\">Enteromorpha seaweed</th><td class=\"align-char\">800</td><td class=\"align-char\">60.2</td><td>0.16</td><td class=\"align-char\">22.88</td><td><a class=\"anchor workspace-trigger u-display-inline anchor-paragraph\" href=\"#bib41\" name=\"bbib41\"><span class=\"anchor-text\">[41]</span></a><sup>a</sup></td></tr><tr><th scope=\"row\">Vine shoots</th><td class=\"align-char\">600</td><td class=\"align-char\">405</td><td>0.27</td><td class=\"align-char\">43.648</td><td><a class=\"anchor workspace-trigger u-display-inline anchor-paragraph\" href=\"#bib107\" name=\"bbib107\"><span class=\"anchor-text\">[107]</span></a><sup>b</sup></td></tr><tr><th scope=\"row\">Wheat straw</th><td class=\"align-char\">500</td><td class=\"align-char\">459</td><td>0.324</td><td class=\"align-char\">39.38</td><td><a class=\"anchor workspace-trigger u-display-inline anchor-paragraph\" href=\"#bib107\" name=\"bbib107\"><span class=\"anchor-text\">[107]</span></a><sup>b</sup></td></tr></tbody></table>'"
      ]
     },
     "execution_count": 8,
     "metadata": {},
     "output_type": "execute_result"
    }
   ],
   "source": [
    "html_table_carbonsCO2ads"
   ]
  },
  {
   "cell_type": "code",
   "execution_count": 9,
   "id": "3690260e",
   "metadata": {},
   "outputs": [],
   "source": [
    "with open(\"json_schemas/json_schema_carbonsCO2ads.json\") as file:\n",
    "    json_schema_carbonsCO2ads = json.load(file)\n",
    "    file.close()"
   ]
  },
  {
   "cell_type": "code",
   "execution_count": 10,
   "id": "fe839ac6",
   "metadata": {},
   "outputs": [
    {
     "data": {
      "text/plain": [
       "{'type': 'object',\n",
       " 'properties': {'Activated carbons': {'type': 'array',\n",
       "   'items': {'type': 'object',\n",
       "    'properties': {'Feedstock': {'type': 'string'},\n",
       "     'Temperature (∘C)': {'type': 'number'},\n",
       "     'Surface area (m2/g)': {'type': 'number'},\n",
       "     'Total Pore Volume (cm3/g)': {'type': 'number'},\n",
       "     'CO2 capacity (mg/g)': {'type': 'number'}}}}}}"
      ]
     },
     "execution_count": 10,
     "metadata": {},
     "output_type": "execute_result"
    }
   ],
   "source": [
    "json_schema_carbonsCO2ads"
   ]
  },
  {
   "cell_type": "code",
   "execution_count": 18,
   "id": "57b5f83c",
   "metadata": {},
   "outputs": [],
   "source": [
    "prompt_carbonsCO2ads = prompt(prompt_template, html_table_carbonsCO2ads[:-5573], json_schema_carbonsCO2ads)"
   ]
  },
  {
   "cell_type": "code",
   "execution_count": 19,
   "id": "eec76b04",
   "metadata": {},
   "outputs": [],
   "source": [
    "davinci_carbonsCO2ads = model_davinci(prompt_carbonsCO2ads)"
   ]
  },
  {
   "cell_type": "markdown",
   "id": "8e70927b",
   "metadata": {},
   "source": [
    "#### pydantic json validation"
   ]
  },
  {
   "cell_type": "code",
   "execution_count": 23,
   "id": "af3e1b5d",
   "metadata": {},
   "outputs": [],
   "source": [
    "class ActivatedCarbons(BaseModel):\n",
    "    Feedstock: str\n",
    "    Temperature: float = Field(alias = \"Temperature (∘C)\")\n",
    "    Surface_area: float = Field(alias = \"Surface area (m2/g)\")\n",
    "    Total_Pore_Volume: str = Field(alias = \"Total Pore Volume (cm3/g)\")\n",
    "    Capacity_CO2: float = Field(alias = \"Capacity CO2 (mg/g)\")\n",
    "        \n",
    "class CarbonsList(BaseModel):\n",
    "    activated_carbons: List[ActivatedCarbons] = Field(alias = \"Activated carbons\")"
   ]
  },
  {
   "cell_type": "code",
   "execution_count": 24,
   "id": "225d2586",
   "metadata": {
    "scrolled": true
   },
   "outputs": [
    {
     "data": {
      "text/plain": [
       "CarbonsList(activated_carbons=[ActivatedCarbons(Feedstock='Rambutan peel', Temperature=500.0, Surface_area=7.8, Total_Pore_Volume='0.011', Capacity_CO2=27.83), ActivatedCarbons(Feedstock='Rambutan peel', Temperature=700.0, Surface_area=175.84, Total_Pore_Volume='0.111', Capacity_CO2=56.61), ActivatedCarbons(Feedstock='Rambutan peel', Temperature=900.0, Surface_area=569.64, Total_Pore_Volume='0.313', Capacity_CO2=68.74), ActivatedCarbons(Feedstock='Hickory wood', Temperature=300.0, Surface_area=0.1, Total_Pore_Volume='NA', Capacity_CO2=34.48), ActivatedCarbons(Feedstock='Hickory wood', Temperature=450.0, Surface_area=12.9, Total_Pore_Volume='NA', Capacity_CO2=44.96), ActivatedCarbons(Feedstock='Hickory wood', Temperature=600.0, Surface_area=401.0, Total_Pore_Volume='NA', Capacity_CO2=61.0), ActivatedCarbons(Feedstock='Sugarcane baggasse', Temperature=300.0, Surface_area=5.2, Total_Pore_Volume='NA', Capacity_CO2=38.72), ActivatedCarbons(Feedstock='Sugarcane baggasse', Temperature=450.0, Surface_area=13.6, Total_Pore_Volume='NA', Capacity_CO2=53.83), ActivatedCarbons(Feedstock='Sugarcane baggasse', Temperature=600.0, Surface_area=388.3, Total_Pore_Volume='NA', Capacity_CO2=73.55), ActivatedCarbons(Feedstock='Perilla leaf', Temperature=700.0, Surface_area=473.4, Total_Pore_Volume='0.1', Capacity_CO2=101.728), ActivatedCarbons(Feedstock='Soybean stover', Temperature=700.0, Surface_area=420.3, Total_Pore_Volume='0.2', Capacity_CO2=31.108)])"
      ]
     },
     "execution_count": 24,
     "metadata": {},
     "output_type": "execute_result"
    }
   ],
   "source": [
    "CarbonsList.parse_raw(davinci_carbonsCO2ads)"
   ]
  },
  {
   "cell_type": "code",
   "execution_count": 12,
   "id": "fb54dca9",
   "metadata": {},
   "outputs": [],
   "source": [
    "with open(\"structured_openai_results/davinci_carbonsCO2ads.json\", 'w') as file:\n",
    "    json.dump(json.loads(davinci_carbonsCO2ads), file)"
   ]
  },
  {
   "cell_type": "code",
   "execution_count": 13,
   "id": "47a68f3f",
   "metadata": {},
   "outputs": [],
   "source": [
    "with open(\"structured_openai_results/davinci_carbonsCO2ads.json\") as file:\n",
    "    davinci_carbonsCO2ads_json = json.load(file)\n",
    "    file.close()"
   ]
  },
  {
   "cell_type": "code",
   "execution_count": 14,
   "id": "039fbf79",
   "metadata": {},
   "outputs": [
    {
     "name": "stdout",
     "output_type": "stream",
     "text": [
      "{\n",
      "    \"Activated carbons\": [\n",
      "        {\n",
      "            \"Feedstock\": \"Rambutan peel\",\n",
      "            \"Temperature (∘C)\": 500,\n",
      "            \"Surface area (m2/g)\": 7.8,\n",
      "            \"Total Pore Volume (cm3/g)\": 0.011,\n",
      "            \"Capacity CO2 (mg/g)\": 27.83\n",
      "        },\n",
      "        {\n",
      "            \"Feedstock\": \"Rambutan peel\",\n",
      "            \"Temperature (∘C)\": 700,\n",
      "            \"Surface area (m2/g)\": 175.84,\n",
      "            \"Total Pore Volume (cm3/g)\": 0.111,\n",
      "            \"Capacity CO2 (mg/g)\": 56.61\n",
      "        },\n",
      "        {\n",
      "            \"Feedstock\": \"Rambutan peel\",\n",
      "            \"Temperature (∘C)\": 900,\n",
      "            \"Surface area (m2/g)\": 569.64,\n",
      "            \"Total Pore Volume (cm3/g)\": 0.313,\n",
      "            \"Capacity CO2 (mg/g)\": 68.74\n",
      "        },\n",
      "        {\n",
      "            \"Feedstock\": \"Hickory wood\",\n",
      "            \"Temperature (∘C)\": 300,\n",
      "            \"Surface area (m2/g)\": 0.1,\n",
      "            \"Total Pore Volume (cm3/g)\": \"NA\",\n",
      "            \"Capacity CO2 (mg/g)\": 34.48\n",
      "        },\n",
      "        {\n",
      "            \"Feedstock\": \"Hickory wood\",\n",
      "            \"Temperature (∘C)\": 450,\n",
      "            \"Surface area (m2/g)\": 12.9,\n",
      "            \"Total Pore Volume (cm3/g)\": \"NA\",\n",
      "            \"Capacity CO2 (mg/g)\": 44.96\n",
      "        },\n",
      "        {\n",
      "            \"Feedstock\": \"Hickory wood\",\n",
      "            \"Temperature (∘C)\": 600,\n",
      "            \"Surface area (m2/g)\": 401.0,\n",
      "            \"Total Pore Volume (cm3/g)\": \"NA\",\n",
      "            \"Capacity CO2 (mg/g)\": 61.0\n",
      "        },\n",
      "        {\n",
      "            \"Feedstock\": \"Sugarcane baggasse\",\n",
      "            \"Temperature (∘C)\": 300,\n",
      "            \"Surface area (m2/g)\": 5.2,\n",
      "            \"Total Pore Volume (cm3/g)\": \"NA\",\n",
      "            \"Capacity CO2 (mg/g)\": 38.72\n",
      "        },\n",
      "        {\n",
      "            \"Feedstock\": \"Sugarcane baggasse\",\n",
      "            \"Temperature (∘C)\": 450,\n",
      "            \"Surface area (m2/g)\": 13.6,\n",
      "            \"Total Pore Volume (cm3/g)\": \"NA\",\n",
      "            \"Capacity CO2 (mg/g)\": 53.83\n",
      "        },\n",
      "        {\n",
      "            \"Feedstock\": \"Sugarcane baggasse\",\n",
      "            \"Temperature (∘C)\": 600,\n",
      "            \"Surface area (m2/g)\": 388.3,\n",
      "            \"Total Pore Volume (cm3/g)\": \"NA\",\n",
      "            \"Capacity CO2 (mg/g)\": 73.55\n",
      "        },\n",
      "        {\n",
      "            \"Feedstock\": \"Perilla leaf\",\n",
      "            \"Temperature (∘C)\": 700,\n",
      "            \"Surface area (m2/g)\": 473.4,\n",
      "            \"Total Pore Volume (cm3/g)\": 0.1,\n",
      "            \"Capacity CO2 (mg/g)\": 101.728\n",
      "        },\n",
      "        {\n",
      "            \"Feedstock\": \"Soybean stover\",\n",
      "            \"Temperature (∘C)\": 700,\n",
      "            \"Surface area (m2/g)\": 420.3,\n",
      "            \"Total Pore Volume (cm3/g)\": 0.2,\n",
      "            \"Capacity CO2 (mg/g)\": 31.108\n",
      "        }\n",
      "    ]\n",
      "}\n"
     ]
    }
   ],
   "source": [
    "print(json.dumps(davinci_carbonsCO2ads_json, indent=4, ensure_ascii=False))"
   ]
  }
 ],
 "metadata": {
  "kernelspec": {
   "display_name": "Python [conda env:llms]",
   "language": "python",
   "name": "conda-env-llms-py"
  },
  "language_info": {
   "codemirror_mode": {
    "name": "ipython",
    "version": 3
   },
   "file_extension": ".py",
   "mimetype": "text/x-python",
   "name": "python",
   "nbconvert_exporter": "python",
   "pygments_lexer": "ipython3",
   "version": "3.10.11"
  }
 },
 "nbformat": 4,
 "nbformat_minor": 5
}
