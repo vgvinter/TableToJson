{
 "cells": [
  {
   "cell_type": "markdown",
   "id": "1028f7c5",
   "metadata": {},
   "source": [
    "# \n",
    "# JSON structured data from tables in scientific papers"
   ]
  },
  {
   "cell_type": "markdown",
   "id": "c7cf17ed",
   "metadata": {},
   "source": [
    "## OpenAI model"
   ]
  },
  {
   "cell_type": "code",
   "execution_count": 1,
   "id": "6d0ceb35",
   "metadata": {},
   "outputs": [],
   "source": [
    "import os\n",
    "import json\n",
    "from typing import List\n",
    "\n",
    "from IPython.display import HTML\n",
    "from langchain.llms import OpenAI\n",
    "from pydantic import BaseModel, Field\n",
    "from pydantic.schema import schema\n",
    "\n",
    "os.environ[\"OPENAI_API_KEY\"] = \"your_openai_api_key\""
   ]
  },
  {
   "cell_type": "code",
   "execution_count": 4,
   "id": "3ae319ee",
   "metadata": {
    "scrolled": true
   },
   "outputs": [],
   "source": [
    "model_davinci = OpenAI(\n",
    "    model_name=\"text-davinci-003\",\n",
    "    temperature=0.9,\n",
    "    max_tokens=1200\n",
    "    )"
   ]
  },
  {
   "cell_type": "code",
   "execution_count": 5,
   "id": "854541c9",
   "metadata": {},
   "outputs": [],
   "source": [
    "prompt_template = \"\"\"\n",
    "Generate a JSON object extracting the information from this table in html code:\n",
    "\"\"\""
   ]
  },
  {
   "cell_type": "code",
   "execution_count": 6,
   "id": "ff54516a",
   "metadata": {},
   "outputs": [],
   "source": [
    "def prompt(prompt_template, html_table, json_schema):\n",
    "    prompt_output = \"Generate the JSON result with the following JSON schema and give only the JSON as output: \"\n",
    "    prompt = prompt_template + html_table + prompt_output + str(json_schema)\n",
    "    return prompt"
   ]
  },
  {
   "cell_type": "markdown",
   "id": "a5f0108e",
   "metadata": {},
   "source": [
    "### Example: Ni-doped ceria anode materials for SOFCs"
   ]
  },
  {
   "cell_type": "code",
   "execution_count": 8,
   "id": "abbbe9f0",
   "metadata": {},
   "outputs": [],
   "source": [
    "with open(\"html_table_anodesSOFCs.txt\", 'r') as file:\n",
    "    html_table_anodesSOFCs = file.read()\n",
    "    file.close()"
   ]
  },
  {
   "cell_type": "code",
   "execution_count": 9,
   "id": "440ea562",
   "metadata": {},
   "outputs": [
    {
     "data": {
      "text/plain": [
       "'<table class=\"table\">\\n                <thead>\\n                        <tr>\\n                                <th>\\nNi-doped ceria NPs</th>\\n                                <th>\\nCrystalline size <em>D</em><sub>XRD</sub> (nm)</th>\\n                                <th>\\nDislocation density, <em>δ</em> (nm<sup>−2</sup>)</th>\\n                                <th>\\nLattice strain, <em>ε</em> = <em>β</em>/4\\u2006tan\\u2006<em>θ</em> (×10<sup><sup>−3</sup></sup>)</th>\\n                                <th>\\nLattice constant <em>A</em> (Å)</th>\\n                        </tr>\\n                </thead>\\n                            <tbody>\\n                        <tr>\\n                                <td>\\nNDC1</td>\\n                                <td>\\n33.03</td>\\n                                <td>\\n9.161 × 10<sup>−4</sup></td>\\n                                <td>\\n3.08</td>\\n                                <td>\\n5.413</td>\\n                        </tr>\\n                        <tr>\\n                                <td>\\nNDC2</td>\\n                                <td>\\n31.29</td>\\n                                <td>\\n1.021 × 10<sup>−3</sup></td>\\n                                <td>\\n3.22</td>\\n                                <td>\\n5.406</td>\\n                        </tr>\\n                        <tr>\\n                                <td>\\nNDC3</td>\\n                                <td>\\n31.23</td>\\n                                <td>\\n1.025 × 10<sup>−3</sup></td>\\n                                <td>\\n3.70</td>\\n                                <td>\\n5.403</td>\\n                        </tr>\\n                        <tr>\\n                                <td>\\nNDC4</td>\\n                                <td>\\n33.02</td>\\n                                <td>\\n9.154 × 10<sup>−4</sup></td>\\n                                <td>\\n3.24</td>\\n                                <td>\\n5.407</td>\\n                        </tr>\\n                </tbody>\\n                    </table>'"
      ]
     },
     "execution_count": 9,
     "metadata": {},
     "output_type": "execute_result"
    }
   ],
   "source": [
    "html_table_anodesSOFCs"
   ]
  },
  {
   "cell_type": "code",
   "execution_count": 12,
   "id": "5e6bc9bb",
   "metadata": {},
   "outputs": [],
   "source": [
    "with open(\"json_schemas/json_schema_anodesSOFCs.json\") as file:\n",
    "    json_schema_anodesSOFCs = json.load(file)\n",
    "    file.close()"
   ]
  },
  {
   "cell_type": "code",
   "execution_count": 13,
   "id": "47a81c6e",
   "metadata": {},
   "outputs": [
    {
     "data": {
      "text/plain": [
       "{'type': 'object',\n",
       " 'properties': {'Ce-doped SOFC anodes': {'type': 'array',\n",
       "   'items': {'type': 'object',\n",
       "    'properties': {'Ni-doped ceria NP': {'type': 'string'},\n",
       "     'Crystalline size DXRD (nm)': {'type': 'number'},\n",
       "     'Dislocation density, δ (nm−2)': {'type': 'number'},\n",
       "     'Lattice strain, ε = β/4\\u2006tan\\u2006θ (×10−3)': {'type': 'number'},\n",
       "     'Lattice constant A (Å)': {'type': 'number'}}}}}}"
      ]
     },
     "execution_count": 13,
     "metadata": {},
     "output_type": "execute_result"
    }
   ],
   "source": [
    "json_schema_anodesSOFCs"
   ]
  },
  {
   "cell_type": "code",
   "execution_count": 14,
   "id": "58f30d85",
   "metadata": {},
   "outputs": [],
   "source": [
    "prompt_anodesSOFCs = prompt(prompt_template, html_table_anodesSOFCs, json_schema_anodesSOFCs)"
   ]
  },
  {
   "cell_type": "code",
   "execution_count": 15,
   "id": "6be17288",
   "metadata": {},
   "outputs": [],
   "source": [
    "davinci_anodesSOFCs = model_davinci(prompt_anodesSOFCs)"
   ]
  },
  {
   "cell_type": "code",
   "execution_count": 24,
   "id": "d984fc58",
   "metadata": {},
   "outputs": [],
   "source": [
    "with open(\"structured_openai_results/davinci_anodesSOFCs.json\", 'w') as file:\n",
    "    json.dump(json.loads(davinci_anodesSOFCs), file)"
   ]
  },
  {
   "cell_type": "code",
   "execution_count": 22,
   "id": "3375535a",
   "metadata": {},
   "outputs": [],
   "source": [
    "with open(\"structured_openai_results/davinci_anodesSOFCs.json\") as file:\n",
    "    davinci_anodesSOFCs_json = json.load(file)\n",
    "    file.close()"
   ]
  },
  {
   "cell_type": "code",
   "execution_count": 23,
   "id": "7fa118a6",
   "metadata": {},
   "outputs": [
    {
     "name": "stdout",
     "output_type": "stream",
     "text": [
      "[\n",
      "    {\n",
      "        \"Ni-doped ceria NP\": \"NDC1\",\n",
      "        \"Crystalline size DXRD (nm)\": 33.03,\n",
      "        \"Dislocation density, δ (nm−2)\": 0.0009161,\n",
      "        \"Lattice strain, ε = β/4 tan θ (×10−3)\": 3.08,\n",
      "        \"Lattice constant A (Å)\": 5.413\n",
      "    },\n",
      "    {\n",
      "        \"Ni-doped ceria NP\": \"NDC2\",\n",
      "        \"Crystalline size DXRD (nm)\": 31.29,\n",
      "        \"Dislocation density, δ (nm−2)\": 0.001021,\n",
      "        \"Lattice strain, ε = β/4 tan θ (×10−3)\": 3.22,\n",
      "        \"Lattice constant A (Å)\": 5.406\n",
      "    },\n",
      "    {\n",
      "        \"Ni-doped ceria NP\": \"NDC3\",\n",
      "        \"Crystalline size DXRD (nm)\": 31.23,\n",
      "        \"Dislocation density, δ (nm−2)\": 0.001025,\n",
      "        \"Lattice strain, ε = β/4 tan θ (×10−3)\": 3.7,\n",
      "        \"Lattice constant A (Å)\": 5.403\n",
      "    },\n",
      "    {\n",
      "        \"Ni-doped ceria NP\": \"NDC4\",\n",
      "        \"Crystalline size DXRD (nm)\": 33.02,\n",
      "        \"Dislocation density, δ (nm−2)\": 0.0009154,\n",
      "        \"Lattice strain, ε = β/4 tan θ (×10−3)\": 3.24,\n",
      "        \"Lattice constant A (Å)\": 5.407\n",
      "    }\n",
      "]\n"
     ]
    }
   ],
   "source": [
    "print(json.dumps(davinci_anodesSOFCs_json, indent=4, ensure_ascii=False))"
   ]
  },
  {
   "cell_type": "markdown",
   "id": "8e717b24",
   "metadata": {},
   "source": [
    "#### change object name in the schema"
   ]
  },
  {
   "cell_type": "code",
   "execution_count": 163,
   "id": "094be852",
   "metadata": {},
   "outputs": [],
   "source": [
    "json_schema_anodesSOFCs_new_schema = {\n",
    "    \"type\": \"object\",\n",
    "    \"properties\": {\n",
    "        \"Ni-doped ceria NPs\": {\n",
    "            \"type\": \"array\",\n",
    "            \"items\": {\n",
    "                \"type\": \"object\",\n",
    "                \"properties\": {\n",
    "                    \"Ni-doped ceria NP\": {\"type\": \"string\"},\n",
    "                    \"Crystalline size DXRD (nm)\": {\"type\": \"number\"},\n",
    "                    \"Dislocation density, δ (nm−2)\": {\"type\": \"number\"},\n",
    "                    \"Lattice strain, ε = β/4 tan θ (×10−3)\": {\"type\": \"number\"},\n",
    "                    \"Lattice constant A (Å)\": {\"type\": \"number\"},\n",
    "                },\n",
    "            },\n",
    "        },\n",
    "    },\n",
    "}"
   ]
  },
  {
   "cell_type": "code",
   "execution_count": 167,
   "id": "d93d12b3",
   "metadata": {},
   "outputs": [],
   "source": [
    "prompt_anodesSOFCs = prompt(prompt_template, html_table_anodesSOFCs, json_schema_anodesSOFCs_new_schema)"
   ]
  },
  {
   "cell_type": "code",
   "execution_count": 168,
   "id": "2a1f2446",
   "metadata": {},
   "outputs": [],
   "source": [
    "davinci_anodesSOFCs_new_schema = model_davinci(prompt_anodesSOFCs)"
   ]
  },
  {
   "cell_type": "code",
   "execution_count": 25,
   "id": "895ae227",
   "metadata": {},
   "outputs": [],
   "source": [
    "with open(\"JSON_davinci/davinci_anodesSOFCs_new_schema.txt\", 'r') as file:\n",
    "    davinci_anodesSOFCs_new_schema = file.read()\n",
    "    file.close()"
   ]
  },
  {
   "cell_type": "code",
   "execution_count": 26,
   "id": "edce50ad",
   "metadata": {},
   "outputs": [],
   "source": [
    "with open(\"structured_openai_results/davinci_anodesSOFCs_new_schema.json\", 'w') as file:\n",
    "    json.dump(json.loads(davinci_anodesSOFCs_new_schema), file)"
   ]
  },
  {
   "cell_type": "code",
   "execution_count": 27,
   "id": "59f23f89",
   "metadata": {},
   "outputs": [],
   "source": [
    "with open(\"structured_openai_results/davinci_anodesSOFCs_new_schema.json\") as file:\n",
    "    davinci_anodesSOFCs_new_schema_json = json.load(file)\n",
    "    file.close()"
   ]
  },
  {
   "cell_type": "code",
   "execution_count": 28,
   "id": "8215d1de",
   "metadata": {},
   "outputs": [
    {
     "name": "stdout",
     "output_type": "stream",
     "text": [
      "{\n",
      "    \"Ni-doped ceria NPs\": [\n",
      "        {\n",
      "            \"Ni-doped ceria NP\": \"NDC1\",\n",
      "            \"Crystalline size DXRD (nm)\": 33.03,\n",
      "            \"Dislocation density, δ (nm−2)\": 0.0009161,\n",
      "            \"Lattice strain, ε = β/4 tan θ (×10−3)\": 3.08,\n",
      "            \"Lattice constant A (Å)\": 5.413\n",
      "        },\n",
      "        {\n",
      "            \"Ni-doped ceria NP\": \"NDC2\",\n",
      "            \"Crystalline size DXRD (nm)\": 31.29,\n",
      "            \"Dislocation density, δ (nm−2)\": 0.001021,\n",
      "            \"Lattice strain, ε = β/4 tan θ (×10−3)\": 3.22,\n",
      "            \"Lattice constant A (Å)\": 5.406\n",
      "        },\n",
      "        {\n",
      "            \"Ni-doped ceria NP\": \"NDC3\",\n",
      "            \"Crystalline size DXRD (nm)\": 31.23,\n",
      "            \"Dislocation density, δ (nm−2)\": 0.001025,\n",
      "            \"Lattice strain, ε = β/4 tan θ (×10−3)\": 3.7,\n",
      "            \"Lattice constant A (Å)\": 5.403\n",
      "        },\n",
      "        {\n",
      "            \"Ni-doped ceria NP\": \"NDC4\",\n",
      "            \"Crystalline size DXRD (nm)\": 33.02,\n",
      "            \"Dislocation density, δ (nm−2)\": 0.0009154,\n",
      "            \"Lattice strain, ε = β/4 tan θ (×10−3)\": 3.24,\n",
      "            \"Lattice constant A (Å)\": 5.407\n",
      "        }\n",
      "    ]\n",
      "}\n"
     ]
    }
   ],
   "source": [
    "print(json.dumps(davinci_anodesSOFCs_new_schema_json, indent=4, ensure_ascii=False))"
   ]
  }
 ],
 "metadata": {
  "kernelspec": {
   "display_name": "Python [conda env:llms]",
   "language": "python",
   "name": "conda-env-llms-py"
  },
  "language_info": {
   "codemirror_mode": {
    "name": "ipython",
    "version": 3
   },
   "file_extension": ".py",
   "mimetype": "text/x-python",
   "name": "python",
   "nbconvert_exporter": "python",
   "pygments_lexer": "ipython3",
   "version": "3.10.11"
  }
 },
 "nbformat": 4,
 "nbformat_minor": 5
}
